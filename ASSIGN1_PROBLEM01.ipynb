{
 "cells": [
  {
   "cell_type": "code",
   "execution_count": 1,
   "metadata": {},
   "outputs": [],
   "source": [
    "#load in libraries\n",
    "import pandas as pd\n",
    "import numpy as np\n",
    "import statsmodels.api as sm"
   ]
  },
  {
   "cell_type": "markdown",
   "metadata": {},
   "source": [
    "# Problem 01"
   ]
  },
  {
   "cell_type": "code",
   "execution_count": 2,
   "metadata": {
    "scrolled": true
   },
   "outputs": [],
   "source": [
    "#open all the csv file\n",
    "af = pd.read_csv(\"problem_01/A.csv\")\n",
    "bf = pd.read_csv(\"problem_01/B.csv\")\n",
    "cf = pd.read_csv(\"problem_01/C.csv\")\n",
    "df = pd.read_csv(\"problem_01/D.csv\")"
   ]
  },
  {
   "cell_type": "code",
   "execution_count": 3,
   "metadata": {
    "scrolled": true
   },
   "outputs": [
    {
     "data": {
      "text/plain": [
       "x    0\n",
       "y    0\n",
       "dtype: int64"
      ]
     },
     "execution_count": 3,
     "metadata": {},
     "output_type": "execute_result"
    }
   ],
   "source": [
    "#check if there are missing values\n",
    "af.isna().sum()\n",
    "bf.isna().sum()\n",
    "cf.isna().sum()\n",
    "df.isna().sum()"
   ]
  },
  {
   "cell_type": "code",
   "execution_count": 67,
   "metadata": {},
   "outputs": [
    {
     "data": {
      "text/html": [
       "<div>\n",
       "<style scoped>\n",
       "    .dataframe tbody tr th:only-of-type {\n",
       "        vertical-align: middle;\n",
       "    }\n",
       "\n",
       "    .dataframe tbody tr th {\n",
       "        vertical-align: top;\n",
       "    }\n",
       "\n",
       "    .dataframe thead th {\n",
       "        text-align: right;\n",
       "    }\n",
       "</style>\n",
       "<table border=\"1\" class=\"dataframe\">\n",
       "  <thead>\n",
       "    <tr style=\"text-align: right;\">\n",
       "      <th></th>\n",
       "      <th>x</th>\n",
       "      <th>y</th>\n",
       "    </tr>\n",
       "  </thead>\n",
       "  <tbody>\n",
       "    <tr>\n",
       "      <td>0</td>\n",
       "      <td>8</td>\n",
       "      <td>6.58</td>\n",
       "    </tr>\n",
       "    <tr>\n",
       "      <td>1</td>\n",
       "      <td>8</td>\n",
       "      <td>5.76</td>\n",
       "    </tr>\n",
       "    <tr>\n",
       "      <td>2</td>\n",
       "      <td>8</td>\n",
       "      <td>7.71</td>\n",
       "    </tr>\n",
       "    <tr>\n",
       "      <td>3</td>\n",
       "      <td>8</td>\n",
       "      <td>8.84</td>\n",
       "    </tr>\n",
       "    <tr>\n",
       "      <td>4</td>\n",
       "      <td>8</td>\n",
       "      <td>8.47</td>\n",
       "    </tr>\n",
       "  </tbody>\n",
       "</table>\n",
       "</div>"
      ],
      "text/plain": [
       "   x     y\n",
       "0  8  6.58\n",
       "1  8  5.76\n",
       "2  8  7.71\n",
       "3  8  8.84\n",
       "4  8  8.47"
      ]
     },
     "execution_count": 67,
     "metadata": {},
     "output_type": "execute_result"
    }
   ],
   "source": [
    "df.head()"
   ]
  },
  {
   "cell_type": "markdown",
   "metadata": {},
   "source": [
    "### 1a) calculate sample average and sample variance"
   ]
  },
  {
   "cell_type": "markdown",
   "metadata": {},
   "source": [
    "##### Dataframe A"
   ]
  },
  {
   "cell_type": "code",
   "execution_count": 4,
   "metadata": {},
   "outputs": [
    {
     "name": "stdout",
     "output_type": "stream",
     "text": [
      " The sample mean for x is: 9.0 \n",
      " sample mean for y is 7.500909090909093\n",
      " The sample variance for x is: 11.0 \n",
      " sample variance for y is 4.127269090909091\n"
     ]
    }
   ],
   "source": [
    "#get the sample mean for x and y\n",
    "#USING .MEAN() TO GET THE SAMPLE AVERAGE\n",
    "\n",
    "#sample mean for x\n",
    "ax = af['x'].mean()\n",
    "#sample mean for y\n",
    "ay = af['y'].mean()\n",
    "print(\" The sample mean for x is:\",ax,'\\n',\"sample mean for y is\",ay)\n",
    "\n",
    "\n",
    "#get the sample variance for x and y\n",
    "#USING .VAR()FUNCTION TO GET VARIANCE\n",
    "\n",
    "#sample variance for x\n",
    "axv = af['x'].var()\n",
    "#sample variance for y\n",
    "ayv = af['y'].var()\n",
    "print(\" The sample variance for x is:\",axv,'\\n',\"sample variance for y is\",ayv)\n"
   ]
  },
  {
   "cell_type": "markdown",
   "metadata": {},
   "source": [
    "##### Dataframe B"
   ]
  },
  {
   "cell_type": "code",
   "execution_count": 5,
   "metadata": {},
   "outputs": [
    {
     "name": "stdout",
     "output_type": "stream",
     "text": [
      " The sample mean for x is: 9.0 \n",
      " sample mean for y is 7.500909090909091\n",
      " The sample variance for x is: 11.0 \n",
      " sample variance for y is 4.127629090909091\n"
     ]
    }
   ],
   "source": [
    "#get the sample mean for x and y\n",
    "\n",
    "#sample mean for x\n",
    "bx = bf['x'].mean()\n",
    "#sample mean for y\n",
    "by = bf['y'].mean()\n",
    "print(\" The sample mean for x is:\",bx,'\\n',\"sample mean for y is\",by)\n",
    "\n",
    "#get the sample variance for x and y\n",
    "\n",
    "#sample variance for x\n",
    "bxv = bf['x'].var()\n",
    "#sample variance for y\n",
    "byv = bf['y'].var()\n",
    "print(\" The sample variance for x is:\",bxv,'\\n',\"sample variance for y is\",byv)"
   ]
  },
  {
   "cell_type": "markdown",
   "metadata": {},
   "source": [
    "##### Dataframe C"
   ]
  },
  {
   "cell_type": "code",
   "execution_count": 6,
   "metadata": {},
   "outputs": [
    {
     "name": "stdout",
     "output_type": "stream",
     "text": [
      " The sample mean for x is: 9.0 \n",
      " sample mean for y is 7.500000000000001\n",
      " The sample variance for x is: 11.0 \n",
      " sample variance for y is 4.12262\n"
     ]
    }
   ],
   "source": [
    "#get the sample mean for x and y\n",
    "\n",
    "#sample mean for x\n",
    "cx = cf['x'].mean()\n",
    "#sample mean for y\n",
    "cy = cf['y'].mean()\n",
    "print(\" The sample mean for x is:\",cx,'\\n',\"sample mean for y is\",cy)\n",
    "\n",
    "#get the sample variance for x and y\n",
    "\n",
    "#sample variance for x\n",
    "cxv = cf['x'].var()\n",
    "#sample variance for y\n",
    "cyv = cf['y'].var()\n",
    "print(\" The sample variance for x is:\",cxv,'\\n',\"sample variance for y is\",cyv)"
   ]
  },
  {
   "cell_type": "markdown",
   "metadata": {},
   "source": [
    "##### Dataframe D"
   ]
  },
  {
   "cell_type": "code",
   "execution_count": 7,
   "metadata": {},
   "outputs": [
    {
     "name": "stdout",
     "output_type": "stream",
     "text": [
      " The sample mean for x is: 9.0 \n",
      " sample mean for y is 7.50090909090909\n",
      " The sample variance for x is: 11.0 \n",
      " sample variance for y is 4.12324909090909\n"
     ]
    }
   ],
   "source": [
    "#get the sample mean for x and y\n",
    "\n",
    "#sample mean for x\n",
    "dx = df['x'].mean()\n",
    "#sample mean for y\n",
    "dy = df['y'].mean()\n",
    "print(\" The sample mean for x is:\",dx,'\\n',\"sample mean for y is\",dy)\n",
    "\n",
    "#get the sample variance for x and y\n",
    "\n",
    "#sample variance for x\n",
    "dxv = df['x'].var()\n",
    "#sample variance for y\n",
    "dyv = df['y'].var()\n",
    "print(\" The sample variance for x is:\",dxv,'\\n',\"sample variance for y is\",dyv)"
   ]
  },
  {
   "cell_type": "markdown",
   "metadata": {},
   "source": [
    "#####  Summary statistics compare across the data sets\n",
    "As we can see from below all the sample mean and variance fo each dataset it seems that the sample average and sample variance for X is the same there is a small flucutation with the y sample average but shouldn't make any differences, there is a slight difference between y sample variance as every y sample variance seems to be around the same except for y sample variance from dataframe C and D as its slightly smaller than other y variance\n",
    "###### DATAFRAME A:\n",
    " The sample mean for x is: 9.0 \n",
    " sample mean for y is 7.500909090909093\n",
    " The sample variance for x is: 11.0 \n",
    " sample variance for y is 4.127269090909091\n",
    "###### DATAFRAME B:\n",
    " The sample mean for x is: 9.0 \n",
    " sample mean for y is 7.500909090909091\n",
    " The sample variance for x is: 11.0 \n",
    " sample variance for y is 4.127629090909091\n",
    "###### DATAFRAME C:\n",
    " The sample mean for x is: 9.0 \n",
    " sample mean for y is 7.500000000000001\n",
    " The sample variance for x is: 11.0 \n",
    " sample variance for y is 4.12262\n",
    "###### DATAFRAME D:\n",
    " The sample mean for x is: 9.0 \n",
    " sample mean for y is 7.50090909090909\n",
    " The sample variance for x is: 11.0 \n",
    " sample variance for y is 4.12324909090909"
   ]
  },
  {
   "cell_type": "markdown",
   "metadata": {},
   "source": [
    "### 1b) Design matrix for each dataset"
   ]
  },
  {
   "cell_type": "code",
   "execution_count": 8,
   "metadata": {
    "scrolled": true
   },
   "outputs": [],
   "source": [
    "#use patsy's library to build the design matrix\n",
    "import patsy"
   ]
  },
  {
   "cell_type": "code",
   "execution_count": 9,
   "metadata": {
    "scrolled": false
   },
   "outputs": [],
   "source": [
    "#Matrix for A\n",
    "ya,Xa = patsy.dmatrices(\"y~x\", data = af, return_type = 'dataframe')\n",
    "#print(Xa)\n",
    "#print(Xa.design_info)"
   ]
  },
  {
   "cell_type": "code",
   "execution_count": 10,
   "metadata": {
    "scrolled": false
   },
   "outputs": [],
   "source": [
    "#Matrix for B\n",
    "yb, Xb = patsy.dmatrices(\"y~x\", data = bf, return_type = 'dataframe')\n",
    "#print(Xb)"
   ]
  },
  {
   "cell_type": "code",
   "execution_count": 11,
   "metadata": {},
   "outputs": [],
   "source": [
    "#Matrix for C\n",
    "yc,Xc = patsy.dmatrices(\"y~x\", data = cf, return_type = 'dataframe')\n",
    "#print(Xc)"
   ]
  },
  {
   "cell_type": "code",
   "execution_count": 12,
   "metadata": {
    "scrolled": false
   },
   "outputs": [],
   "source": [
    "#Matrix for D\n",
    "yd,Xd = patsy.dmatrices(\"y~x\", data = df, return_type = 'dataframe')\n",
    "#print(Xd)"
   ]
  },
  {
   "cell_type": "markdown",
   "metadata": {},
   "source": [
    "### 1C) Calculate MLEs"
   ]
  },
  {
   "cell_type": "markdown",
   "metadata": {},
   "source": [
    "$(X^TX)^{-1}X^Ty$"
   ]
  },
  {
   "cell_type": "markdown",
   "metadata": {},
   "source": [
    "##### MLEs for A"
   ]
  },
  {
   "cell_type": "code",
   "execution_count": 13,
   "metadata": {},
   "outputs": [
    {
     "name": "stdout",
     "output_type": "stream",
     "text": [
      "                            OLS Regression Results                            \n",
      "==============================================================================\n",
      "Dep. Variable:                      y   R-squared:                       0.667\n",
      "Model:                            OLS   Adj. R-squared:                  0.629\n",
      "Method:                 Least Squares   F-statistic:                     17.99\n",
      "Date:                Fri, 31 Jan 2020   Prob (F-statistic):            0.00217\n",
      "Time:                        17:14:41   Log-Likelihood:                -16.841\n",
      "No. Observations:                  11   AIC:                             37.68\n",
      "Df Residuals:                       9   BIC:                             38.48\n",
      "Df Model:                           1                                         \n",
      "Covariance Type:            nonrobust                                         \n",
      "==============================================================================\n",
      "                 coef    std err          t      P>|t|      [0.025      0.975]\n",
      "------------------------------------------------------------------------------\n",
      "Intercept      3.0001      1.125      2.667      0.026       0.456       5.544\n",
      "x              0.5001      0.118      4.241      0.002       0.233       0.767\n",
      "==============================================================================\n",
      "Omnibus:                        0.082   Durbin-Watson:                   3.212\n",
      "Prob(Omnibus):                  0.960   Jarque-Bera (JB):                0.289\n",
      "Skew:                          -0.122   Prob(JB):                        0.865\n",
      "Kurtosis:                       2.244   Cond. No.                         29.1\n",
      "==============================================================================\n",
      "\n",
      "Warnings:\n",
      "[1] Standard Errors assume that the covariance matrix of the errors is correctly specified.\n"
     ]
    },
    {
     "name": "stderr",
     "output_type": "stream",
     "text": [
      "C:\\Users\\David\\Anaconda3\\lib\\site-packages\\scipy\\stats\\stats.py:1450: UserWarning: kurtosistest only valid for n>=20 ... continuing anyway, n=11\n",
      "  \"anyway, n=%i\" % int(n))\n"
     ]
    }
   ],
   "source": [
    "mod = sm.OLS(ya, Xa)\n",
    "res = mod.fit()\n",
    "print(res.summary())"
   ]
  },
  {
   "cell_type": "code",
   "execution_count": 14,
   "metadata": {},
   "outputs": [],
   "source": [
    "#convert the columns to ndarray\n",
    "xac = Xa.to_numpy()\n",
    "yac = ya.to_numpy()"
   ]
  },
  {
   "cell_type": "code",
   "execution_count": 15,
   "metadata": {},
   "outputs": [
    {
     "data": {
      "text/plain": [
       "array([[ 82.51],\n",
       "       [797.6 ]])"
      ]
     },
     "execution_count": 15,
     "metadata": {},
     "output_type": "execute_result"
    }
   ],
   "source": [
    "#get the dot product of Xmat and ycol\n",
    "#transpose the Xa data \n",
    "np.dot(np.transpose(xac), yac)"
   ]
  },
  {
   "cell_type": "code",
   "execution_count": 16,
   "metadata": {},
   "outputs": [
    {
     "data": {
      "text/plain": [
       "array([[ 0.82727273, -0.08181818],\n",
       "       [-0.08181818,  0.00909091]])"
      ]
     },
     "execution_count": 16,
     "metadata": {},
     "output_type": "execute_result"
    }
   ],
   "source": [
    "# take the matrix inverse\n",
    "np.linalg.inv(np.dot(np.transpose(xac), xac))"
   ]
  },
  {
   "cell_type": "code",
   "execution_count": 17,
   "metadata": {},
   "outputs": [
    {
     "data": {
      "text/plain": [
       "array([[3.00009091],\n",
       "       [0.50009091]])"
      ]
     },
     "execution_count": 17,
     "metadata": {},
     "output_type": "execute_result"
    }
   ],
   "source": [
    "# find the MLEs\n",
    "np.dot(np.linalg.inv(np.dot(np.transpose(xac), xac)), np.dot(np.transpose(xac), yac))"
   ]
  },
  {
   "cell_type": "code",
   "execution_count": 18,
   "metadata": {},
   "outputs": [
    {
     "name": "stdout",
     "output_type": "stream",
     "text": [
      "Intercept    3.000091\n",
      "x            0.500091\n",
      "dtype: float64\n"
     ]
    }
   ],
   "source": [
    "print(res.params)"
   ]
  },
  {
   "cell_type": "markdown",
   "metadata": {},
   "source": [
    "##### MLEs for B"
   ]
  },
  {
   "cell_type": "code",
   "execution_count": 19,
   "metadata": {
    "collapsed": true
   },
   "outputs": [
    {
     "name": "stdout",
     "output_type": "stream",
     "text": [
      "                            OLS Regression Results                            \n",
      "==============================================================================\n",
      "Dep. Variable:                      y   R-squared:                       0.666\n",
      "Model:                            OLS   Adj. R-squared:                  0.629\n",
      "Method:                 Least Squares   F-statistic:                     17.97\n",
      "Date:                Fri, 31 Jan 2020   Prob (F-statistic):            0.00218\n",
      "Time:                        17:14:42   Log-Likelihood:                -16.846\n",
      "No. Observations:                  11   AIC:                             37.69\n",
      "Df Residuals:                       9   BIC:                             38.49\n",
      "Df Model:                           1                                         \n",
      "Covariance Type:            nonrobust                                         \n",
      "==============================================================================\n",
      "                 coef    std err          t      P>|t|      [0.025      0.975]\n",
      "------------------------------------------------------------------------------\n",
      "Intercept      3.0009      1.125      2.667      0.026       0.455       5.547\n",
      "x              0.5000      0.118      4.239      0.002       0.233       0.767\n",
      "==============================================================================\n",
      "Omnibus:                        1.594   Durbin-Watson:                   2.188\n",
      "Prob(Omnibus):                  0.451   Jarque-Bera (JB):                1.108\n",
      "Skew:                          -0.567   Prob(JB):                        0.575\n",
      "Kurtosis:                       1.936   Cond. No.                         29.1\n",
      "==============================================================================\n",
      "\n",
      "Warnings:\n",
      "[1] Standard Errors assume that the covariance matrix of the errors is correctly specified.\n"
     ]
    }
   ],
   "source": [
    "mod = sm.OLS(yb,Xb)\n",
    "res = mod.fit()\n",
    "print(res.summary())"
   ]
  },
  {
   "cell_type": "code",
   "execution_count": 20,
   "metadata": {},
   "outputs": [],
   "source": [
    "xbc = Xb.to_numpy()\n",
    "ybc = yb.to_numpy()"
   ]
  },
  {
   "cell_type": "code",
   "execution_count": 21,
   "metadata": {},
   "outputs": [
    {
     "data": {
      "text/plain": [
       "array([[  11.,   99.],\n",
       "       [  99., 1001.]])"
      ]
     },
     "execution_count": 21,
     "metadata": {},
     "output_type": "execute_result"
    }
   ],
   "source": [
    "np.dot(np.transpose(xbc),xbc)"
   ]
  },
  {
   "cell_type": "code",
   "execution_count": 22,
   "metadata": {},
   "outputs": [
    {
     "data": {
      "text/plain": [
       "array([[ 0.82727273, -0.08181818],\n",
       "       [-0.08181818,  0.00909091]])"
      ]
     },
     "execution_count": 22,
     "metadata": {},
     "output_type": "execute_result"
    }
   ],
   "source": [
    "np.linalg.inv(np.dot(np.transpose(xbc),xbc))"
   ]
  },
  {
   "cell_type": "code",
   "execution_count": 23,
   "metadata": {},
   "outputs": [
    {
     "data": {
      "text/plain": [
       "array([[3.00090909],\n",
       "       [0.5       ]])"
      ]
     },
     "execution_count": 23,
     "metadata": {},
     "output_type": "execute_result"
    }
   ],
   "source": [
    "np.dot(np.linalg.inv(np.dot(np.transpose(xbc), xbc)), np.dot(np.transpose(xbc), ybc))"
   ]
  },
  {
   "cell_type": "code",
   "execution_count": 24,
   "metadata": {},
   "outputs": [
    {
     "name": "stdout",
     "output_type": "stream",
     "text": [
      "Intercept    3.000909\n",
      "x            0.500000\n",
      "dtype: float64\n"
     ]
    }
   ],
   "source": [
    "#check the MLEs\n",
    "print(res.params)"
   ]
  },
  {
   "cell_type": "markdown",
   "metadata": {},
   "source": [
    "##### MLEs for C"
   ]
  },
  {
   "cell_type": "code",
   "execution_count": 25,
   "metadata": {},
   "outputs": [],
   "source": [
    "mod = sm.OLS(yc,Xc)"
   ]
  },
  {
   "cell_type": "code",
   "execution_count": 26,
   "metadata": {},
   "outputs": [],
   "source": [
    "#convert to ndarray\n",
    "xcc = Xc.to_numpy()\n",
    "ycc = yc.to_numpy()"
   ]
  },
  {
   "cell_type": "code",
   "execution_count": 27,
   "metadata": {},
   "outputs": [
    {
     "data": {
      "text/plain": [
       "array([[  11.,   99.],\n",
       "       [  99., 1001.]])"
      ]
     },
     "execution_count": 27,
     "metadata": {},
     "output_type": "execute_result"
    }
   ],
   "source": [
    "np.dot(np.transpose(xcc),xcc)"
   ]
  },
  {
   "cell_type": "code",
   "execution_count": 28,
   "metadata": {},
   "outputs": [
    {
     "data": {
      "text/plain": [
       "array([[3.00245455],\n",
       "       [0.49972727]])"
      ]
     },
     "execution_count": 28,
     "metadata": {},
     "output_type": "execute_result"
    }
   ],
   "source": [
    "# find the MLEs\n",
    "np.dot(np.linalg.inv(np.dot(np.transpose(xcc), xcc)), np.dot(np.transpose(xcc), ycc))"
   ]
  },
  {
   "cell_type": "code",
   "execution_count": 29,
   "metadata": {
    "scrolled": false
   },
   "outputs": [
    {
     "name": "stdout",
     "output_type": "stream",
     "text": [
      "Intercept    3.000909\n",
      "x            0.500000\n",
      "dtype: float64\n"
     ]
    }
   ],
   "source": [
    "print(res.params)"
   ]
  },
  {
   "cell_type": "markdown",
   "metadata": {},
   "source": [
    "##### MLEs for D"
   ]
  },
  {
   "cell_type": "code",
   "execution_count": 30,
   "metadata": {
    "collapsed": true
   },
   "outputs": [
    {
     "name": "stdout",
     "output_type": "stream",
     "text": [
      "                            OLS Regression Results                            \n",
      "==============================================================================\n",
      "Dep. Variable:                      y   R-squared:                       0.667\n",
      "Model:                            OLS   Adj. R-squared:                  0.630\n",
      "Method:                 Least Squares   F-statistic:                     18.00\n",
      "Date:                Fri, 31 Jan 2020   Prob (F-statistic):            0.00216\n",
      "Time:                        17:14:42   Log-Likelihood:                -16.833\n",
      "No. Observations:                  11   AIC:                             37.67\n",
      "Df Residuals:                       9   BIC:                             38.46\n",
      "Df Model:                           1                                         \n",
      "Covariance Type:            nonrobust                                         \n",
      "==============================================================================\n",
      "                 coef    std err          t      P>|t|      [0.025      0.975]\n",
      "------------------------------------------------------------------------------\n",
      "Intercept      3.0017      1.124      2.671      0.026       0.459       5.544\n",
      "x              0.4999      0.118      4.243      0.002       0.233       0.766\n",
      "==============================================================================\n",
      "Omnibus:                        0.555   Durbin-Watson:                   1.662\n",
      "Prob(Omnibus):                  0.758   Jarque-Bera (JB):                0.524\n",
      "Skew:                           0.010   Prob(JB):                        0.769\n",
      "Kurtosis:                       1.931   Cond. No.                         29.1\n",
      "==============================================================================\n",
      "\n",
      "Warnings:\n",
      "[1] Standard Errors assume that the covariance matrix of the errors is correctly specified.\n"
     ]
    }
   ],
   "source": [
    "mod = sm.OLS(yd,Xd)\n",
    "res = mod.fit()\n",
    "print(res.summary())"
   ]
  },
  {
   "cell_type": "code",
   "execution_count": 31,
   "metadata": {},
   "outputs": [],
   "source": [
    "xdc = Xd.to_numpy()\n",
    "ydc = yd.to_numpy()"
   ]
  },
  {
   "cell_type": "code",
   "execution_count": 32,
   "metadata": {},
   "outputs": [
    {
     "data": {
      "text/plain": [
       "array([[  11.,   99.],\n",
       "       [  99., 1001.]])"
      ]
     },
     "execution_count": 32,
     "metadata": {},
     "output_type": "execute_result"
    }
   ],
   "source": [
    "np.dot(np.transpose(xdc),xdc)"
   ]
  },
  {
   "cell_type": "code",
   "execution_count": 33,
   "metadata": {
    "scrolled": true
   },
   "outputs": [
    {
     "data": {
      "text/plain": [
       "array([[ 9.399],\n",
       "       [-0.211]])"
      ]
     },
     "execution_count": 33,
     "metadata": {},
     "output_type": "execute_result"
    }
   ],
   "source": [
    "np.dot(np.linalg.inv(np.dot(np.transpose(xdc), xdc)), np.dot(np.transpose(xdc),ycc))"
   ]
  },
  {
   "cell_type": "code",
   "execution_count": 34,
   "metadata": {
    "scrolled": true
   },
   "outputs": [
    {
     "name": "stdout",
     "output_type": "stream",
     "text": [
      "Intercept    3.001727\n",
      "x            0.499909\n",
      "dtype: float64\n"
     ]
    }
   ],
   "source": [
    "print(res.params)"
   ]
  },
  {
   "cell_type": "markdown",
   "metadata": {},
   "source": [
    "##### A.csv MLEs:\n",
    "Intercept=3.000091,\n",
    "x=0.500091\n",
    "##### B.csv MLEs:\n",
    "Intercept=3.000909,\n",
    "x=0.500000\n",
    "##### C.csv MLEs:\n",
    "Intercept=3.000909,\n",
    "x=0.500000\n",
    "##### D.csv MLEs:\n",
    "Intercept=3.001727,\n",
    "x=0.499909\n",
    "\n",
    "##### Conclusion:\n",
    "For all the intercept in mles are very close, the x value for the all mles are extremely close hoovering around 0.50000 except for x-value at D.csv where it's 0.49999 but if you round it up it would be the same"
   ]
  },
  {
   "cell_type": "markdown",
   "metadata": {},
   "source": [
    "### 1d) Calculate the Mean Squared Error (MSE)"
   ]
  },
  {
   "cell_type": "code",
   "execution_count": 35,
   "metadata": {},
   "outputs": [],
   "source": [
    "#using sklearn's linear model to get the mean squared error\n",
    "from sklearn import linear_model\n",
    "#using sklearn's metrics to check if the mse result is correct\n",
    "from sklearn.metrics import mean_squared_error"
   ]
  },
  {
   "cell_type": "markdown",
   "metadata": {},
   "source": [
    "##### MSE for A.csv"
   ]
  },
  {
   "cell_type": "code",
   "execution_count": 36,
   "metadata": {},
   "outputs": [
    {
     "name": "stdout",
     "output_type": "stream",
     "text": [
      "[[0.50009091]]\n"
     ]
    }
   ],
   "source": [
    "#data for the linear regression model\n",
    "x = af[['x']]\n",
    "y = af[['y']]\n",
    "#implementing the regression model\n",
    "lm = linear_model.LinearRegression()\n",
    "lm.fit(x,y)\n",
    "#check the coefficient\n",
    "print(lm.coef_)"
   ]
  },
  {
   "cell_type": "code",
   "execution_count": 37,
   "metadata": {},
   "outputs": [
    {
     "data": {
      "text/plain": [
       "y    1.251154\n",
       "dtype: float64"
      ]
     },
     "execution_count": 37,
     "metadata": {},
     "output_type": "execute_result"
    }
   ],
   "source": [
    "#MSE for A.csv\n",
    "np.mean((lm.predict(x)-y)**2)"
   ]
  },
  {
   "cell_type": "code",
   "execution_count": 38,
   "metadata": {},
   "outputs": [
    {
     "data": {
      "text/plain": [
       "1.2511536363636362"
      ]
     },
     "execution_count": 38,
     "metadata": {},
     "output_type": "execute_result"
    }
   ],
   "source": [
    "#check the mse value \n",
    "mean_squared_error(y,lm.predict(x))"
   ]
  },
  {
   "cell_type": "markdown",
   "metadata": {},
   "source": [
    "##### MSE for B.csv"
   ]
  },
  {
   "cell_type": "code",
   "execution_count": 39,
   "metadata": {},
   "outputs": [
    {
     "data": {
      "text/plain": [
       "LinearRegression(copy_X=True, fit_intercept=True, n_jobs=None, normalize=False)"
      ]
     },
     "execution_count": 39,
     "metadata": {},
     "output_type": "execute_result"
    }
   ],
   "source": [
    "#data for the linear regression model\n",
    "x = bf[['x']]\n",
    "y = bf[['y']]\n",
    "#implementing the model\n",
    "lm = linear_model.LinearRegression()\n",
    "lm.fit(x,y)"
   ]
  },
  {
   "cell_type": "code",
   "execution_count": 40,
   "metadata": {},
   "outputs": [
    {
     "data": {
      "text/plain": [
       "y    1.25239\n",
       "dtype: float64"
      ]
     },
     "execution_count": 40,
     "metadata": {},
     "output_type": "execute_result"
    }
   ],
   "source": [
    "#use numpy.mean to get the mse value \n",
    "np.mean((lm.predict(x)-y)**2)"
   ]
  },
  {
   "cell_type": "code",
   "execution_count": 41,
   "metadata": {},
   "outputs": [
    {
     "data": {
      "text/plain": [
       "1.2523900826446281"
      ]
     },
     "execution_count": 41,
     "metadata": {},
     "output_type": "execute_result"
    }
   ],
   "source": [
    "#check using metrics.mse\n",
    "mean_squared_error(y,lm.predict(x))"
   ]
  },
  {
   "cell_type": "markdown",
   "metadata": {},
   "source": [
    "##### MSE for C.csv"
   ]
  },
  {
   "cell_type": "code",
   "execution_count": 42,
   "metadata": {},
   "outputs": [
    {
     "data": {
      "text/plain": [
       "LinearRegression(copy_X=True, fit_intercept=True, n_jobs=None, normalize=False)"
      ]
     },
     "execution_count": 42,
     "metadata": {},
     "output_type": "execute_result"
    }
   ],
   "source": [
    "#data for linear regression model\n",
    "x = cf[['x']]\n",
    "y = cf[['y']]\n",
    "#implementing the linear regression \n",
    "lm = linear_model.LinearRegression()\n",
    "lm.fit(x,y)"
   ]
  },
  {
   "cell_type": "code",
   "execution_count": 43,
   "metadata": {},
   "outputs": [
    {
     "data": {
      "text/plain": [
       "y    1.250563\n",
       "dtype: float64"
      ]
     },
     "execution_count": 43,
     "metadata": {},
     "output_type": "execute_result"
    }
   ],
   "source": [
    "#implement np.mean to get the mse value\n",
    "np.mean((lm.predict(x)-y)**2)"
   ]
  },
  {
   "cell_type": "code",
   "execution_count": 44,
   "metadata": {},
   "outputs": [
    {
     "data": {
      "text/plain": [
       "1.2505628925619836"
      ]
     },
     "execution_count": 44,
     "metadata": {},
     "output_type": "execute_result"
    }
   ],
   "source": [
    "#using metrics to check the mse value\n",
    "mean_squared_error(y,lm.predict(x))"
   ]
  },
  {
   "cell_type": "markdown",
   "metadata": {},
   "source": [
    "##### MSE for D.csv"
   ]
  },
  {
   "cell_type": "code",
   "execution_count": 45,
   "metadata": {},
   "outputs": [
    {
     "data": {
      "text/plain": [
       "LinearRegression(copy_X=True, fit_intercept=True, n_jobs=None, normalize=False)"
      ]
     },
     "execution_count": 45,
     "metadata": {},
     "output_type": "execute_result"
    }
   ],
   "source": [
    "#data for the linear regression model\n",
    "x = df[['x']]\n",
    "y = df[['y']]\n",
    "#implement the linear regression model\n",
    "lm = linear_model.LinearRegression()\n",
    "lm.fit(x,y)"
   ]
  },
  {
   "cell_type": "code",
   "execution_count": 46,
   "metadata": {},
   "outputs": [
    {
     "data": {
      "text/plain": [
       "y    1.249317\n",
       "dtype: float64"
      ]
     },
     "execution_count": 46,
     "metadata": {},
     "output_type": "execute_result"
    }
   ],
   "source": [
    "#implement np.mean to get the mse value\n",
    "np.mean((lm.predict(x)-y)**2)"
   ]
  },
  {
   "cell_type": "code",
   "execution_count": 47,
   "metadata": {},
   "outputs": [
    {
     "data": {
      "text/plain": [
       "1.249317272727273"
      ]
     },
     "execution_count": 47,
     "metadata": {},
     "output_type": "execute_result"
    }
   ],
   "source": [
    "#using metrics to double check if the mse value is correct\n",
    "mean_squared_error(y,lm.predict(x))"
   ]
  },
  {
   "cell_type": "markdown",
   "metadata": {},
   "source": [
    "##### A.csv MSE\n",
    "y=1.251154\n",
    "\n",
    "##### B.csv MSE\n",
    "y=1.25239\n",
    "\n",
    "##### C.csv MSE\n",
    "y=1.250563\n",
    "\n",
    "##### D.csv MSE\n",
    "y=1.249317\n",
    "\n",
    "##### Conclusion:\n",
    "All the MSE value are hovering around 1.25 some of a and c are .01 and .02 bigger and d is .01 smaller other that theres not much deviation from 1.25"
   ]
  },
  {
   "cell_type": "markdown",
   "metadata": {},
   "source": [
    "\n",
    "### 1e) R-squared values for each model"
   ]
  },
  {
   "cell_type": "markdown",
   "metadata": {},
   "source": [
    "##### The $R^2$value for A.csv"
   ]
  },
  {
   "cell_type": "code",
   "execution_count": 48,
   "metadata": {},
   "outputs": [],
   "source": [
    "#implementing sklearn library for linear regression to get the r^2 value\n",
    "from sklearn import linear_model\n",
    "#implementing sklearn.metrics to check the r^2 value\n",
    "from sklearn.metrics import r2_score as r2"
   ]
  },
  {
   "cell_type": "code",
   "execution_count": 49,
   "metadata": {},
   "outputs": [
    {
     "data": {
      "text/plain": [
       "LinearRegression(copy_X=True, fit_intercept=True, n_jobs=None, normalize=False)"
      ]
     },
     "execution_count": 49,
     "metadata": {},
     "output_type": "execute_result"
    }
   ],
   "source": [
    "#create the x and y value for the linear regression\n",
    "x = af[['x']]\n",
    "y = af[['y']]\n",
    "#calling the linear regression function from linear_model\n",
    "lm = linear_model.LinearRegression()\n",
    "#fit the variable in an linear regression\n",
    "lm.fit(x,y)"
   ]
  },
  {
   "cell_type": "code",
   "execution_count": 50,
   "metadata": {},
   "outputs": [
    {
     "name": "stdout",
     "output_type": "stream",
     "text": [
      "The R^2 value for A.csv is: 0.666542459508775\n"
     ]
    }
   ],
   "source": [
    "rs = lm.score(x,y)\n",
    "print(\"The R^2 value for A.csv is:\",rs)"
   ]
  },
  {
   "cell_type": "code",
   "execution_count": 51,
   "metadata": {},
   "outputs": [
    {
     "data": {
      "text/plain": [
       "0.666542459508775"
      ]
     },
     "execution_count": 51,
     "metadata": {},
     "output_type": "execute_result"
    }
   ],
   "source": [
    "#check the r^2 value\n",
    "r2(y,lm.predict(x))"
   ]
  },
  {
   "cell_type": "markdown",
   "metadata": {},
   "source": [
    "##### The $R^2$value for B.csv"
   ]
  },
  {
   "cell_type": "code",
   "execution_count": 52,
   "metadata": {},
   "outputs": [
    {
     "data": {
      "text/plain": [
       "LinearRegression(copy_X=True, fit_intercept=True, n_jobs=None, normalize=False)"
      ]
     },
     "execution_count": 52,
     "metadata": {},
     "output_type": "execute_result"
    }
   ],
   "source": [
    "#create the x and y value for the linear model\n",
    "x = bf[['x']]\n",
    "y = bf[['y']]\n",
    "#implementing the linear regression\n",
    "lm = linear_model.LinearRegression()\n",
    "lm.fit(x,y)"
   ]
  },
  {
   "cell_type": "code",
   "execution_count": 53,
   "metadata": {},
   "outputs": [
    {
     "name": "stdout",
     "output_type": "stream",
     "text": [
      "The R^2 value for B.csv is: 0.6662420337274844\n"
     ]
    }
   ],
   "source": [
    "#getting the r^2 value for the model\n",
    "rs = lm.score(x,y)\n",
    "print(\"The R^2 value for B.csv is:\",rs)"
   ]
  },
  {
   "cell_type": "code",
   "execution_count": 54,
   "metadata": {},
   "outputs": [
    {
     "data": {
      "text/plain": [
       "0.6662420337274844"
      ]
     },
     "execution_count": 54,
     "metadata": {},
     "output_type": "execute_result"
    }
   ],
   "source": [
    "#check the r^2 value\n",
    "r2(y,lm.predict(x))"
   ]
  },
  {
   "cell_type": "markdown",
   "metadata": {},
   "source": [
    "##### The $R^2$value for C.csv"
   ]
  },
  {
   "cell_type": "code",
   "execution_count": 55,
   "metadata": {},
   "outputs": [
    {
     "data": {
      "text/plain": [
       "LinearRegression(copy_X=True, fit_intercept=True, n_jobs=None, normalize=False)"
      ]
     },
     "execution_count": 55,
     "metadata": {},
     "output_type": "execute_result"
    }
   ],
   "source": [
    "#create the x and y value for the linear model\n",
    "x = cf[['x']]\n",
    "y = cf[['y']]\n",
    "#implementing the linear model\n",
    "lm = linear_model.LinearRegression()\n",
    "lm.fit(x,y)"
   ]
  },
  {
   "cell_type": "code",
   "execution_count": 56,
   "metadata": {},
   "outputs": [
    {
     "name": "stdout",
     "output_type": "stream",
     "text": [
      "The R^2 value for C.csv is: 0.6663240410665592\n"
     ]
    }
   ],
   "source": [
    "#getting the r^2 value\n",
    "rs = lm.score(x,y)\n",
    "print(\"The R^2 value for C.csv is:\",rs)"
   ]
  },
  {
   "cell_type": "code",
   "execution_count": 57,
   "metadata": {},
   "outputs": [
    {
     "data": {
      "text/plain": [
       "0.6663240410665592"
      ]
     },
     "execution_count": 57,
     "metadata": {},
     "output_type": "execute_result"
    }
   ],
   "source": [
    "#check the r^2 value\n",
    "r2(y,lm.predict(x))"
   ]
  },
  {
   "cell_type": "markdown",
   "metadata": {},
   "source": [
    "##### The $R^2$value for D.csv"
   ]
  },
  {
   "cell_type": "code",
   "execution_count": 68,
   "metadata": {},
   "outputs": [
    {
     "data": {
      "text/plain": [
       "LinearRegression(copy_X=True, fit_intercept=True, n_jobs=None, normalize=False)"
      ]
     },
     "execution_count": 68,
     "metadata": {},
     "output_type": "execute_result"
    }
   ],
   "source": [
    "X = df[['x']]\n",
    "y = df[['y']]\n",
    "lm = linear_model.LinearRegression()\n",
    "lm.fit(x,y)"
   ]
  },
  {
   "cell_type": "code",
   "execution_count": 69,
   "metadata": {},
   "outputs": [
    {
     "name": "stdout",
     "output_type": "stream",
     "text": [
      "The R^2 value for D.csv is: 0.09862533386071981\n"
     ]
    }
   ],
   "source": [
    "rs = lm.score(x,y)\n",
    "print(\"The R^2 value for D.csv is:\", rs)"
   ]
  },
  {
   "cell_type": "code",
   "execution_count": 70,
   "metadata": {},
   "outputs": [
    {
     "data": {
      "text/plain": [
       "0.09862533386071981"
      ]
     },
     "execution_count": 70,
     "metadata": {},
     "output_type": "execute_result"
    }
   ],
   "source": [
    "#check the r^2 value\n",
    "r2(y,lm.predict(x))"
   ]
  },
  {
   "cell_type": "markdown",
   "metadata": {},
   "source": [
    "##### A.csv $R^2$ \n",
    "The R^2 value for A.csv is: 0.666542459508775\n",
    "##### B.csv $R^2$ \n",
    "The R^2 value for B.csv is: 0.6662420337274844\n",
    "##### C.csv $R^2$ \n",
    "The R^2 value for C.csv is: 0.6663240410665592\n",
    "##### D.csv $R^2$ \n",
    "The R^2 value for D.csv is: 0.6667072568984653\n",
    "\n",
    "##### Conclusion"
   ]
  },
  {
   "cell_type": "markdown",
   "metadata": {},
   "source": [
    "##### 1f) compare MSE to $R^2$ Value"
   ]
  },
  {
   "cell_type": "markdown",
   "metadata": {},
   "source": [
    "The R^2 value for the model is better fit because the value for the MSE is over one after reading through multiple documentation and the slides from class it seems that the greater the MSE value the less accurate it is so therefore\n",
    "the R^2 value for the model would be better suited."
   ]
  },
  {
   "cell_type": "markdown",
   "metadata": {},
   "source": [
    "##### 1g) Scatter plot"
   ]
  },
  {
   "cell_type": "code",
   "execution_count": 61,
   "metadata": {},
   "outputs": [],
   "source": [
    "#import libraries necessary to create the scatterplot\n",
    "%matplotlib inline\n",
    "import matplotlib.pyplot as plt\n",
    "plt.style.use('seaborn-whitegrid')\n",
    "#####\n",
    "from mlxtend.plotting import plot_linear_regression"
   ]
  },
  {
   "cell_type": "code",
   "execution_count": 62,
   "metadata": {},
   "outputs": [],
   "source": [
    "import seaborn as sns; sns.set()\n",
    "#sns.set(color_codes = True)"
   ]
  },
  {
   "cell_type": "markdown",
   "metadata": {},
   "source": [
    "##### Scatter plot for A.csv"
   ]
  },
  {
   "cell_type": "code",
   "execution_count": 63,
   "metadata": {},
   "outputs": [
    {
     "data": {
      "text/plain": [
       "<seaborn.axisgrid.FacetGrid at 0x18e90517788>"
      ]
     },
     "execution_count": 63,
     "metadata": {},
     "output_type": "execute_result"
    },
    {
     "data": {
      "image/png": "[encoded data removed]",
      "text/plain": [
       "<Figure size 360x360 with 1 Axes>"
      ]
     },
     "metadata": {},
     "output_type": "display_data"
    }
   ],
   "source": [
    "sns.lmplot(x='x', y='y', data=af)"
   ]
  },
  {
   "cell_type": "markdown",
   "metadata": {},
   "source": [
    "##### Scatter plot for B.csv"
   ]
  },
  {
   "cell_type": "code",
   "execution_count": 64,
   "metadata": {},
   "outputs": [
    {
     "data": {
      "text/plain": [
       "<seaborn.axisgrid.FacetGrid at 0x18e9060a388>"
      ]
     },
     "execution_count": 64,
     "metadata": {},
     "output_type": "execute_result"
    },
    {
     "data": {
      "image/png": "[encoded data removed]",
      "text/plain": [
       "<Figure size 360x360 with 1 Axes>"
      ]
     },
     "metadata": {},
     "output_type": "display_data"
    }
   ],
   "source": [
    "sns.lmplot(x='x',y='y',data=bf)"
   ]
  },
  {
   "cell_type": "markdown",
   "metadata": {},
   "source": [
    "##### Scatter plot for C.csv"
   ]
  },
  {
   "cell_type": "code",
   "execution_count": 65,
   "metadata": {},
   "outputs": [
    {
     "data": {
      "text/plain": [
       "<seaborn.axisgrid.FacetGrid at 0x18e9068ba88>"
      ]
     },
     "execution_count": 65,
     "metadata": {},
     "output_type": "execute_result"
    },
    {
     "data": {
      "image/png": "[encoded data removed]",
      "text/plain": [
       "<Figure size 360x360 with 1 Axes>"
      ]
     },
     "metadata": {},
     "output_type": "display_data"
    }
   ],
   "source": [
    "sns.lmplot(x='x',y='y',data=cf)"
   ]
  },
  {
   "cell_type": "markdown",
   "metadata": {},
   "source": [
    "##### Scatter plot for D.csv"
   ]
  },
  {
   "cell_type": "code",
   "execution_count": 66,
   "metadata": {
    "scrolled": false
   },
   "outputs": [
    {
     "data": {
      "text/plain": [
       "<seaborn.axisgrid.FacetGrid at 0x18e906fb988>"
      ]
     },
     "execution_count": 66,
     "metadata": {},
     "output_type": "execute_result"
    },
    {
     "data": {
      "image/png": "[encoded data removed]",
      "text/plain": [
       "<Figure size 360x360 with 1 Axes>"
      ]
     },
     "metadata": {},
     "output_type": "display_data"
    }
   ],
   "source": [
    "sns.lmplot(x='x',y='y',data=df)"
   ]
  }
 ],
 "metadata": {
  "kernelspec": {
   "display_name": "Python 3",
   "language": "python",
   "name": "python3"
  },
  "language_info": {
   "codemirror_mode": {
    "name": "ipython",
    "version": 3
   },
   "file_extension": ".py",
   "mimetype": "text/x-python",
   "name": "python",
   "nbconvert_exporter": "python",
   "pygments_lexer": "ipython3",
   "version": "3.7.4"
  }
 },
 "nbformat": 4,
 "nbformat_minor": 2
}
