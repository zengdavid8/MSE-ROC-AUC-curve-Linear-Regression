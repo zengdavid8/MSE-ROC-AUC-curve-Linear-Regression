{
 "cells": [
  {
   "cell_type": "markdown",
   "metadata": {},
   "source": [
    "### 4. Regression model threshold"
   ]
  },
  {
   "cell_type": "code",
   "execution_count": 1,
   "metadata": {},
   "outputs": [],
   "source": [
    "#import necessary library \n",
    "import pandas as pd\n",
    "import numpy as np"
   ]
  },
  {
   "cell_type": "code",
   "execution_count": 2,
   "metadata": {},
   "outputs": [
    {
     "data": {
      "text/html": [
       "<div>\n",
       "<style scoped>\n",
       "    .dataframe tbody tr th:only-of-type {\n",
       "        vertical-align: middle;\n",
       "    }\n",
       "\n",
       "    .dataframe tbody tr th {\n",
       "        vertical-align: top;\n",
       "    }\n",
       "\n",
       "    .dataframe thead th {\n",
       "        text-align: right;\n",
       "    }\n",
       "</style>\n",
       "<table border=\"1\" class=\"dataframe\">\n",
       "  <thead>\n",
       "    <tr style=\"text-align: right;\">\n",
       "      <th></th>\n",
       "      <th>x1</th>\n",
       "      <th>x2</th>\n",
       "      <th>mu</th>\n",
       "      <th>y</th>\n",
       "    </tr>\n",
       "  </thead>\n",
       "  <tbody>\n",
       "    <tr>\n",
       "      <td>0</td>\n",
       "      <td>-0.245285</td>\n",
       "      <td>-1.134651</td>\n",
       "      <td>0.253648</td>\n",
       "      <td>0</td>\n",
       "    </tr>\n",
       "    <tr>\n",
       "      <td>1</td>\n",
       "      <td>-0.379790</td>\n",
       "      <td>-0.125740</td>\n",
       "      <td>0.211713</td>\n",
       "      <td>0</td>\n",
       "    </tr>\n",
       "    <tr>\n",
       "      <td>2</td>\n",
       "      <td>-2.162497</td>\n",
       "      <td>1.554207</td>\n",
       "      <td>0.011723</td>\n",
       "      <td>0</td>\n",
       "    </tr>\n",
       "    <tr>\n",
       "      <td>3</td>\n",
       "      <td>-1.656284</td>\n",
       "      <td>1.609108</td>\n",
       "      <td>0.027963</td>\n",
       "      <td>0</td>\n",
       "    </tr>\n",
       "    <tr>\n",
       "      <td>4</td>\n",
       "      <td>-0.025724</td>\n",
       "      <td>-1.041158</td>\n",
       "      <td>0.332918</td>\n",
       "      <td>1</td>\n",
       "    </tr>\n",
       "  </tbody>\n",
       "</table>\n",
       "</div>"
      ],
      "text/plain": [
       "         x1        x2        mu  y\n",
       "0 -0.245285 -1.134651  0.253648  0\n",
       "1 -0.379790 -0.125740  0.211713  0\n",
       "2 -2.162497  1.554207  0.011723  0\n",
       "3 -1.656284  1.609108  0.027963  0\n",
       "4 -0.025724 -1.041158  0.332918  1"
      ]
     },
     "execution_count": 2,
     "metadata": {},
     "output_type": "execute_result"
    }
   ],
   "source": [
    "#grabbing the dataset using pandas\n",
    "df = pd.read_csv(\"problem_04/glm_dataset.csv\")\n",
    "#cast the obeserved as a string so later we can stitch the mu_pred and observed togther\n",
    "df['y'] = df['y'].astype(str)\n",
    "df.head()"
   ]
  },
  {
   "cell_type": "markdown",
   "metadata": {},
   "source": [
    "##### A)Threshold == 0.05"
   ]
  },
  {
   "cell_type": "code",
   "execution_count": 3,
   "metadata": {
    "scrolled": false
   },
   "outputs": [
    {
     "name": "stdout",
     "output_type": "stream",
     "text": [
      "CONFUSION MATRIX: THRESHOLD == 0.05\n",
      "TP: 17\n",
      "FP: 29\n",
      "FN: 0\n",
      "TN: 4\n",
      "Sensitivity: 1.0\n",
      "False Positive Rate: 0.8787878787878788\n"
     ]
    }
   ],
   "source": [
    "#new dataframe for the threshold\n",
    "af = df\n",
    "#store all the mu prediction\n",
    "mu_pred = []\n",
    "#set the threshold\n",
    "thrs = 0.05\n",
    "\n",
    "for i in af['mu']:\n",
    "    if i >= thrs:\n",
    "        mu_pred.append('1')\n",
    "    elif i < thrs:\n",
    "        mu_pred.append('0')\n",
    "        \n",
    "#convert the list to a column in the dataframe\n",
    "af['mu_pred'] = pd.Series(mu_pred)\n",
    "#concat the the mu_pred and y to get the confusion matrix value\n",
    "af['matx'] = af['mu_pred'].map(str) + af['y']\n",
    "\n",
    "################################################################\n",
    "#convert the numerical value in matx to confusion matrix value\n",
    "cm=[]\n",
    "#determine the values for the confusion matrix\n",
    "for j in af['matx']:\n",
    "    if (j == '11'):\n",
    "        cm.append('TP')\n",
    "    elif(j == '10'):\n",
    "        cm.append('FP')\n",
    "    elif(j == '01'):\n",
    "        cm.append('FN')\n",
    "    elif(j == '00'):\n",
    "        cm.append('TN')\n",
    "################################################################\n",
    "atpc = cm.count(\"TP\")\n",
    "afnc = cm.count(\"FN\")\n",
    "afpc = cm.count(\"FP\")\n",
    "atnc = cm.count(\"TN\")\n",
    "################################################################\n",
    "print(\"CONFUSION MATRIX: THRESHOLD == 0.05\")\n",
    "print(\"TP:\",atpc)\n",
    "print(\"FP:\",afpc)\n",
    "print(\"FN:\",afnc)\n",
    "print(\"TN:\",atnc)\n",
    "################################################################\n",
    "#Sensitivity = True Positives / (True Positives + False Negatives)\n",
    "asen = atpc/(atpc+afnc)\n",
    "print(\"Sensitivity:\",asen)\n",
    "################################################################\n",
    "#Specificity = True Negatives / (True Negatives + False Positives)\n",
    "aspc = atnc/(atnc+afpc)\n",
    "################################################################\n",
    "#False Positive Rate = 1 - Specificity\n",
    "#afpr = 1 - aspc\n",
    "afpr = afpc/(afpc+atnc)\n",
    "print(\"False Positive Rate:\",afpr)"
   ]
  },
  {
   "cell_type": "markdown",
   "metadata": {},
   "source": [
    "##### B)Threshold == 0.25"
   ]
  },
  {
   "cell_type": "code",
   "execution_count": 4,
   "metadata": {},
   "outputs": [
    {
     "name": "stdout",
     "output_type": "stream",
     "text": [
      "CONFUSION MATRIX: THRESHOLD == 0.25\n",
      "TP: 13\n",
      "FP: 12\n",
      "FN: 4\n",
      "TN: 21\n",
      "Sensitivity: 0.7647058823529411\n",
      "False Positive Rate: 0.36363636363636365\n"
     ]
    }
   ],
   "source": [
    "#new dataframe for the threshold \n",
    "bf = df\n",
    "#set the threshold\n",
    "thrs = 0.25\n",
    "#new list to store in the prediction value\n",
    "mu_pred = []\n",
    "#use a for loop to check if mu is above the 0.25 threshold\n",
    "for i in bf['mu']:\n",
    "    if i >= thrs:\n",
    "        mu_pred.append(1)\n",
    "    elif i < thrs:\n",
    "        mu_pred.append(0)\n",
    "    \n",
    "#convert the mu_prediction list to a column\n",
    "bf['mu_pred'] = pd.Series(mu_pred)\n",
    "#concat the the mu_pred and y to get the confusion matrix value\n",
    "bf['matx'] = bf['mu_pred'].map(str) + bf['y']\n",
    "################################################################\n",
    "#convert the numerical value in matx to confusion matrix value\n",
    "cm=[]\n",
    "#determine the values for the confusion matrix\n",
    "for j in bf['matx']:\n",
    "    if (j == '11'):\n",
    "        cm.append('TP')\n",
    "    elif(j == '10'):\n",
    "        cm.append('FP')\n",
    "    elif(j == '01'):\n",
    "        cm.append('FN')\n",
    "    elif(j == '00'):\n",
    "        cm.append('TN')\n",
    "################################################################\n",
    "btpc = cm.count(\"TP\")\n",
    "bfnc = cm.count(\"FN\")\n",
    "bfpc = cm.count(\"FP\")\n",
    "btnc = cm.count(\"TN\")\n",
    "################################################################\n",
    "print(\"CONFUSION MATRIX: THRESHOLD == 0.25\")\n",
    "print(\"TP:\",btpc)\n",
    "print(\"FP:\",bfpc)\n",
    "print(\"FN:\",bfnc)\n",
    "print(\"TN:\",btnc)\n",
    "################################################################\n",
    "#Sensitivity = True Positives / (True Positives + False Negatives)\n",
    "bsen = btpc/(btpc+bfnc)\n",
    "print(\"Sensitivity:\",bsen)\n",
    "################################################################\n",
    "#Specificity = True Negatives / (True Negatives + False Positives)\n",
    "bspc = btnc/(btnc+bfpc)\n",
    "################################################################\n",
    "#False Positive Rate = 1 - Specificity\n",
    "#bfpr = 1 - bspc\n",
    "bfpr = bfpc/(bfpc+btnc)\n",
    "print(\"False Positive Rate:\",bfpr)"
   ]
  },
  {
   "cell_type": "markdown",
   "metadata": {},
   "source": [
    "##### C)Threshold == 0.50"
   ]
  },
  {
   "cell_type": "code",
   "execution_count": 5,
   "metadata": {},
   "outputs": [
    {
     "name": "stdout",
     "output_type": "stream",
     "text": [
      "CONFUSION MATRIX: THRESHOLD == 0.50\n",
      "TP: 9\n",
      "FP: 5\n",
      "FN: 8\n",
      "TN: 28\n",
      "Sensitivity: 0.5294117647058824\n",
      "False Positive Rate: 0.15151515151515152\n"
     ]
    }
   ],
   "source": [
    "#new dataframe for the threshold \n",
    "cf = df\n",
    "#set the threshold\n",
    "thrs = 0.50\n",
    "#new list to store in the prediction value\n",
    "mu_pred = []\n",
    "#use a for loop to check if mu is above the 0.25 threshold\n",
    "for i in bf['mu']:\n",
    "    if i >= thrs:\n",
    "        mu_pred.append(1)\n",
    "    elif i < thrs:\n",
    "        mu_pred.append(0)\n",
    "    \n",
    "#convert the mu_prediction list to a column\n",
    "cf['mu_pred'] = pd.Series(mu_pred)\n",
    "#concat the the mu_pred and y to get the confusion matrix value\n",
    "cf['matx'] = cf['mu_pred'].map(str) + cf['y']\n",
    "################################################################\n",
    "#convert the numerical value in matx to confusion matrix value\n",
    "cm=[]\n",
    "#determine the values for the confusion matrix\n",
    "for j in cf['matx']:\n",
    "    if (j == '11'):\n",
    "        cm.append('TP')\n",
    "    elif(j == '10'):\n",
    "        cm.append('FP')\n",
    "    elif(j == '01'):\n",
    "        cm.append('FN')\n",
    "    elif(j == '00'):\n",
    "        cm.append('TN')\n",
    "################################################################\n",
    "ctpc = cm.count(\"TP\")\n",
    "cfnc = cm.count(\"FN\")\n",
    "cfpc = cm.count(\"FP\")\n",
    "ctnc = cm.count(\"TN\")\n",
    "################################################################\n",
    "print(\"CONFUSION MATRIX: THRESHOLD == 0.50\")\n",
    "print(\"TP:\",ctpc)\n",
    "print(\"FP:\",cfpc)\n",
    "print(\"FN:\",cfnc)\n",
    "print(\"TN:\",ctnc)\n",
    "################################################################\n",
    "#Sensitivity = True Positives / (True Positives + False Negatives)\n",
    "csen = ctpc/(ctpc+cfnc)\n",
    "print(\"Sensitivity:\",csen)\n",
    "################################################################\n",
    "#Specificity = True Negatives / (True Negatives + False Positives)\n",
    "cspc = ctnc/(ctnc+cfpc)\n",
    "################################################################\n",
    "#False Positive Rate = 1 - Specificity\n",
    "#cfpr = 1 - cspc\n",
    "cfpr = cfpc/(cfpc+ctnc)\n",
    "print(\"False Positive Rate:\",cfpr)\n"
   ]
  },
  {
   "cell_type": "markdown",
   "metadata": {},
   "source": [
    "##### D)Threshold == 0.75"
   ]
  },
  {
   "cell_type": "code",
   "execution_count": 6,
   "metadata": {},
   "outputs": [
    {
     "name": "stdout",
     "output_type": "stream",
     "text": [
      "CONFUSION MATRIX: THRESHOLD == 0.75\n",
      "TP: 6\n",
      "FP: 1\n",
      "FN: 11\n",
      "TN: 32\n",
      "Sensitivity: 0.35294117647058826\n",
      "False Positive Rate: 0.030303030303030304\n"
     ]
    }
   ],
   "source": [
    "#new dataframe for the threshold \n",
    "df_d = df\n",
    "#set the threshold\n",
    "thrs = 0.75\n",
    "#new list to store in the prediction value\n",
    "mu_pred = []\n",
    "#use a for loop to check if mu is above the 0.25 threshold\n",
    "for i in df_d['mu']:\n",
    "    if i >= thrs:\n",
    "        mu_pred.append(1)\n",
    "    elif i < thrs:\n",
    "        mu_pred.append(0)\n",
    "    \n",
    "#convert the mu_prediction list to a column\n",
    "df_d['mu_pred'] = pd.Series(mu_pred)\n",
    "#concat the the mu_pred and y to get the confusion matrix value\n",
    "df_d['matx'] = df_d['mu_pred'].map(str) + df_d['y']\n",
    "################################################################\n",
    "#convert the numerical value in matx to confusion matrix value\n",
    "cm=[]\n",
    "#determine the values for the confusion matrix\n",
    "for j in df_d['matx']:\n",
    "    if (j == '11'):\n",
    "        cm.append('TP')\n",
    "    elif(j == '10'):\n",
    "        cm.append('FP')\n",
    "    elif(j == '01'):\n",
    "        cm.append('FN')\n",
    "    elif(j == '00'):\n",
    "        cm.append('TN')\n",
    "################################################################\n",
    "dtpc = cm.count(\"TP\")\n",
    "dfnc = cm.count(\"FN\")\n",
    "dfpc = cm.count(\"FP\")\n",
    "dtnc = cm.count(\"TN\")\n",
    "################################################################\n",
    "print(\"CONFUSION MATRIX: THRESHOLD == 0.75\")\n",
    "print(\"TP:\",dtpc)\n",
    "print(\"FP:\",dfpc)\n",
    "print(\"FN:\",dfnc)\n",
    "print(\"TN:\",dtnc)\n",
    "################################################################\n",
    "#Sensitivity = True Positives / (True Positives + False Negatives)\n",
    "dsen = dtpc/(dtpc+dfnc)\n",
    "print(\"Sensitivity:\",dsen)\n",
    "################################################################\n",
    "#Specificity = True Negatives / (True Negatives + False Positives)\n",
    "dspc = dtnc/(dtnc+dfpc)\n",
    "################################################################\n",
    "#False Positive Rate = 1 - Specificity\n",
    "#dfpr = 1 - dspc\n",
    "dfpr = dfpc/(dfpc+dtnc)\n",
    "print(\"False Positive Rate:\",dfpr)"
   ]
  },
  {
   "cell_type": "markdown",
   "metadata": {},
   "source": [
    "##### E)Threshold == 0.95"
   ]
  },
  {
   "cell_type": "code",
   "execution_count": 7,
   "metadata": {},
   "outputs": [
    {
     "name": "stdout",
     "output_type": "stream",
     "text": [
      "CONFUSION MATRIX: THRESHOLD == 0.95\n",
      "TP: 1\n",
      "FP: 0\n",
      "FN: 16\n",
      "TN: 33\n",
      "Sensitivity: 0.058823529411764705\n",
      "False Positive Rate: 0.0\n"
     ]
    }
   ],
   "source": [
    "#new dataframe for the threshold \n",
    "ef = df\n",
    "#set the threshold\n",
    "thrs = 0.95\n",
    "#new list to store in the prediction value\n",
    "mu_pred = []\n",
    "#use a for loop to check if mu is above the 0.25 threshold\n",
    "for i in ef['mu']:\n",
    "    if i >= thrs:\n",
    "        mu_pred.append(1)\n",
    "    elif i < thrs:\n",
    "        mu_pred.append(0)\n",
    "    \n",
    "#convert the mu_prediction list to a column\n",
    "ef['mu_pred'] = pd.Series(mu_pred)\n",
    "#concat the the mu_pred and y to get the confusion matrix value\n",
    "ef['matx'] = ef['mu_pred'].map(str) + ef['y']\n",
    "################################################################\n",
    "#convert the numerical value in matx to confusion matrix value\n",
    "cm=[]\n",
    "#determine the values for the confusion matrix\n",
    "for j in ef['matx']:\n",
    "    if (j == '11'):\n",
    "        cm.append('TP')\n",
    "    elif(j == '10'):\n",
    "        cm.append('FP')\n",
    "    elif(j == '01'):\n",
    "        cm.append('FN')\n",
    "    elif(j == '00'):\n",
    "        cm.append('TN')\n",
    "################################################################\n",
    "etpc = cm.count(\"TP\")\n",
    "efnc = cm.count(\"FN\")\n",
    "efpc = cm.count(\"FP\")\n",
    "etnc = cm.count(\"TN\")\n",
    "################################################################\n",
    "print(\"CONFUSION MATRIX: THRESHOLD == 0.95\")\n",
    "print(\"TP:\",etpc)\n",
    "print(\"FP:\",efpc)\n",
    "print(\"FN:\",efnc)\n",
    "print(\"TN:\",etnc)\n",
    "################################################################\n",
    "#Sensitivity = True Positives / (True Positives + False Negatives)\n",
    "esen = etpc/(etpc+efnc)\n",
    "print(\"Sensitivity:\",esen)\n",
    "################################################################\n",
    "#Specificity = True Negatives / (True Negatives + False Positives)\n",
    "espc = etnc/(etnc+efpc)\n",
    "################################################################\n",
    "#False Positive Rate = 1 - Specificity\n",
    "#efpr = 1 - espc\n",
    "efpr = efpc/(efpc+etnc)\n",
    "print(\"False Positive Rate:\",efpr)"
   ]
  },
  {
   "cell_type": "markdown",
   "metadata": {},
   "source": [
    "\n",
    "\n",
    "### CONCLUSION\n",
    "\n",
    "##### A)CONFUSION MATRIX: THRESHOLD == 0.05\n",
    "TP: 17\n",
    "FP: 29\n",
    "FN: 0\n",
    "TN: 4\n",
    "Sensitivity: 1.0\n",
    "False Positive Rate: 0.8787878787878788\n",
    "\n",
    "\n",
    "###### B)CONFUSION MATRIX: THRESHOLD == 0.25\n",
    "TP: 13\n",
    "FP: 12\n",
    "FN: 4\n",
    "TN: 21\n",
    "Sensitivity: 0.7647058823529411\n",
    "False Positive Rate: 0.36363636363636365\n",
    "\n",
    "\n",
    "###### C)CONFUSION MATRIX: THRESHOLD == 0.50\n",
    "TP: 9\n",
    "FP: 5\n",
    "FN: 8\n",
    "TN: 28\n",
    "Sensitivity: 0.5294117647058824\n",
    "False Positive Rate: 0.15151515151515152\n",
    "\n",
    "\n",
    "##### D)CONFUSION MATRIX: THRESHOLD == 0.75\n",
    "TP: 6\n",
    "FP: 1\n",
    "FN: 11\n",
    "TN: 32\n",
    "Sensitivity: 0.35294117647058826\n",
    "False Positive Rate: 0.030303030303030304\n",
    "\n",
    "\n",
    "##### E)CONFUSION MATRIX: THRESHOLD == 0.95\n",
    "TP: 1\n",
    "FP: 0\n",
    "FN: 16\n",
    "TN: 33\n",
    "Sensitivity: 0.058823529411764705\n",
    "False Positive Rate: 0.0"
   ]
  },
  {
   "cell_type": "markdown",
   "metadata": {},
   "source": [
    "##### F) ROC PLOT"
   ]
  },
  {
   "cell_type": "code",
   "execution_count": 8,
   "metadata": {},
   "outputs": [],
   "source": [
    "#importing required module\n",
    "import matplotlib.pyplot as plt\n",
    "import seaborn as sns; sns.set()"
   ]
  },
  {
   "cell_type": "code",
   "execution_count": 9,
   "metadata": {
    "scrolled": true
   },
   "outputs": [
    {
     "data": {
      "text/html": [
       "<div>\n",
       "<style scoped>\n",
       "    .dataframe tbody tr th:only-of-type {\n",
       "        vertical-align: middle;\n",
       "    }\n",
       "\n",
       "    .dataframe tbody tr th {\n",
       "        vertical-align: top;\n",
       "    }\n",
       "\n",
       "    .dataframe thead th {\n",
       "        text-align: right;\n",
       "    }\n",
       "</style>\n",
       "<table border=\"1\" class=\"dataframe\">\n",
       "  <thead>\n",
       "    <tr style=\"text-align: right;\">\n",
       "      <th></th>\n",
       "      <th>x</th>\n",
       "      <th>y</th>\n",
       "    </tr>\n",
       "  </thead>\n",
       "  <tbody>\n",
       "    <tr>\n",
       "      <td>0</td>\n",
       "      <td>0.878788</td>\n",
       "      <td>1.000000</td>\n",
       "    </tr>\n",
       "    <tr>\n",
       "      <td>1</td>\n",
       "      <td>0.363636</td>\n",
       "      <td>0.764706</td>\n",
       "    </tr>\n",
       "    <tr>\n",
       "      <td>2</td>\n",
       "      <td>0.151515</td>\n",
       "      <td>0.529412</td>\n",
       "    </tr>\n",
       "    <tr>\n",
       "      <td>3</td>\n",
       "      <td>0.030303</td>\n",
       "      <td>0.352941</td>\n",
       "    </tr>\n",
       "    <tr>\n",
       "      <td>4</td>\n",
       "      <td>0.000000</td>\n",
       "      <td>0.058824</td>\n",
       "    </tr>\n",
       "  </tbody>\n",
       "</table>\n",
       "</div>"
      ],
      "text/plain": [
       "          x         y\n",
       "0  0.878788  1.000000\n",
       "1  0.363636  0.764706\n",
       "2  0.151515  0.529412\n",
       "3  0.030303  0.352941\n",
       "4  0.000000  0.058824"
      ]
     },
     "execution_count": 9,
     "metadata": {},
     "output_type": "execute_result"
    }
   ],
   "source": [
    "data = [[afpr,asen],[bfpr,bsen],[cfpr,csen],[dfpr,dsen],[efpr,esen]]\n",
    "dfg = pd.DataFrame(data,columns = ['x','y'])\n",
    "dfg.head(6)"
   ]
  },
  {
   "cell_type": "code",
   "execution_count": 14,
   "metadata": {
    "scrolled": true
   },
   "outputs": [
    {
     "data": {
      "text/plain": [
       "[<matplotlib.lines.Line2D at 0x23430dafc08>]"
      ]
     },
     "execution_count": 14,
     "metadata": {},
     "output_type": "execute_result"
    },
    {
     "data": {
      "image/png": "[encoded data removed]",
      "text/plain": [
       "<Figure size 432x288 with 1 Axes>"
      ]
     },
     "metadata": {
      "needs_background": "light"
     },
     "output_type": "display_data"
    }
   ],
   "source": [
    "plt.plot(dfg['x'],dfg['y'],'ro')\n",
    "plt.plot([0, 0], [1, 1], 'red', linewidth=10)\n",
    "plt.plot(dfg['x'],dfg['y'])"
   ]
  },
  {
   "cell_type": "code",
   "execution_count": null,
   "metadata": {},
   "outputs": [],
   "source": []
  }
 ],
 "metadata": {
  "kernelspec": {
   "display_name": "Python 3",
   "language": "python",
   "name": "python3"
  },
  "language_info": {
   "codemirror_mode": {
    "name": "ipython",
    "version": 3
   },
   "file_extension": ".py",
   "mimetype": "text/x-python",
   "name": "python",
   "nbconvert_exporter": "python",
   "pygments_lexer": "ipython3",
   "version": "3.7.4"
  }
 },
 "nbformat": 4,
 "nbformat_minor": 2
}
