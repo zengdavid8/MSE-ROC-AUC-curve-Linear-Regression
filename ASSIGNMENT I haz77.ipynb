{
 "cells": [
  {
   "cell_type": "code",
   "execution_count": 37,
   "metadata": {},
   "outputs": [],
   "source": [
    "#load in libraries\n",
    "import pandas as pd\n",
    "import numpy as np\n",
    "import statsmodels.api as sm"
   ]
  },
  {
   "cell_type": "markdown",
   "metadata": {},
   "source": [
    "# Problem 01"
   ]
  },
  {
   "cell_type": "code",
   "execution_count": 38,
   "metadata": {
    "scrolled": true
   },
   "outputs": [],
   "source": [
    "#open all the csv file\n",
    "af = pd.read_csv(\"problem_01/A.csv\")\n",
    "bf = pd.read_csv(\"problem_01/B.csv\")\n",
    "cf = pd.read_csv(\"problem_01/C.csv\")\n",
    "df = pd.read_csv(\"problem_01/D.csv\")"
   ]
  },
  {
   "cell_type": "code",
   "execution_count": 39,
   "metadata": {
    "scrolled": true
   },
   "outputs": [
    {
     "data": {
      "text/plain": [
       "x    0\n",
       "y    0\n",
       "dtype: int64"
      ]
     },
     "execution_count": 39,
     "metadata": {},
     "output_type": "execute_result"
    }
   ],
   "source": [
    "#check if there are missing values\n",
    "af.isna().sum()\n",
    "bf.isna().sum()\n",
    "cf.isna().sum()\n",
    "df.isna().sum()"
   ]
  },
  {
   "cell_type": "code",
   "execution_count": 40,
   "metadata": {},
   "outputs": [
    {
     "data": {
      "text/html": [
       "<div>\n",
       "<style scoped>\n",
       "    .dataframe tbody tr th:only-of-type {\n",
       "        vertical-align: middle;\n",
       "    }\n",
       "\n",
       "    .dataframe tbody tr th {\n",
       "        vertical-align: top;\n",
       "    }\n",
       "\n",
       "    .dataframe thead th {\n",
       "        text-align: right;\n",
       "    }\n",
       "</style>\n",
       "<table border=\"1\" class=\"dataframe\">\n",
       "  <thead>\n",
       "    <tr style=\"text-align: right;\">\n",
       "      <th></th>\n",
       "      <th>x</th>\n",
       "      <th>y</th>\n",
       "    </tr>\n",
       "  </thead>\n",
       "  <tbody>\n",
       "    <tr>\n",
       "      <td>0</td>\n",
       "      <td>8</td>\n",
       "      <td>6.58</td>\n",
       "    </tr>\n",
       "    <tr>\n",
       "      <td>1</td>\n",
       "      <td>8</td>\n",
       "      <td>5.76</td>\n",
       "    </tr>\n",
       "    <tr>\n",
       "      <td>2</td>\n",
       "      <td>8</td>\n",
       "      <td>7.71</td>\n",
       "    </tr>\n",
       "    <tr>\n",
       "      <td>3</td>\n",
       "      <td>8</td>\n",
       "      <td>8.84</td>\n",
       "    </tr>\n",
       "    <tr>\n",
       "      <td>4</td>\n",
       "      <td>8</td>\n",
       "      <td>8.47</td>\n",
       "    </tr>\n",
       "  </tbody>\n",
       "</table>\n",
       "</div>"
      ],
      "text/plain": [
       "   x     y\n",
       "0  8  6.58\n",
       "1  8  5.76\n",
       "2  8  7.71\n",
       "3  8  8.84\n",
       "4  8  8.47"
      ]
     },
     "execution_count": 40,
     "metadata": {},
     "output_type": "execute_result"
    }
   ],
   "source": [
    "df.head()"
   ]
  },
  {
   "cell_type": "markdown",
   "metadata": {},
   "source": [
    "### 1a) calculate sample average and sample variance"
   ]
  },
  {
   "cell_type": "markdown",
   "metadata": {},
   "source": [
    "##### Dataframe A"
   ]
  },
  {
   "cell_type": "code",
   "execution_count": 41,
   "metadata": {},
   "outputs": [
    {
     "name": "stdout",
     "output_type": "stream",
     "text": [
      " The sample mean for x is: 9.0 \n",
      " sample mean for y is 7.500909090909093\n",
      " The sample variance for x is: 11.0 \n",
      " sample variance for y is 4.127269090909091\n"
     ]
    }
   ],
   "source": [
    "#get the sample mean for x and y\n",
    "#USING .MEAN() TO GET THE SAMPLE AVERAGE\n",
    "\n",
    "#sample mean for x\n",
    "ax = af['x'].mean()\n",
    "#sample mean for y\n",
    "ay = af['y'].mean()\n",
    "print(\" The sample mean for x is:\",ax,'\\n',\"sample mean for y is\",ay)\n",
    "\n",
    "\n",
    "#get the sample variance for x and y\n",
    "#USING .VAR()FUNCTION TO GET VARIANCE\n",
    "\n",
    "#sample variance for x\n",
    "axv = af['x'].var()\n",
    "#sample variance for y\n",
    "ayv = af['y'].var()\n",
    "print(\" The sample variance for x is:\",axv,'\\n',\"sample variance for y is\",ayv)\n"
   ]
  },
  {
   "cell_type": "markdown",
   "metadata": {},
   "source": [
    "##### Dataframe B"
   ]
  },
  {
   "cell_type": "code",
   "execution_count": 42,
   "metadata": {},
   "outputs": [
    {
     "name": "stdout",
     "output_type": "stream",
     "text": [
      " The sample mean for x is: 9.0 \n",
      " sample mean for y is 7.500909090909091\n",
      " The sample variance for x is: 11.0 \n",
      " sample variance for y is 4.127629090909091\n"
     ]
    }
   ],
   "source": [
    "#get the sample mean for x and y\n",
    "\n",
    "#sample mean for x\n",
    "bx = bf['x'].mean()\n",
    "#sample mean for y\n",
    "by = bf['y'].mean()\n",
    "print(\" The sample mean for x is:\",bx,'\\n',\"sample mean for y is\",by)\n",
    "\n",
    "#get the sample variance for x and y\n",
    "\n",
    "#sample variance for x\n",
    "bxv = bf['x'].var()\n",
    "#sample variance for y\n",
    "byv = bf['y'].var()\n",
    "print(\" The sample variance for x is:\",bxv,'\\n',\"sample variance for y is\",byv)"
   ]
  },
  {
   "cell_type": "markdown",
   "metadata": {},
   "source": [
    "##### Dataframe C"
   ]
  },
  {
   "cell_type": "code",
   "execution_count": 43,
   "metadata": {},
   "outputs": [
    {
     "name": "stdout",
     "output_type": "stream",
     "text": [
      " The sample mean for x is: 9.0 \n",
      " sample mean for y is 7.500000000000001\n",
      " The sample variance for x is: 11.0 \n",
      " sample variance for y is 4.12262\n"
     ]
    }
   ],
   "source": [
    "#get the sample mean for x and y\n",
    "\n",
    "#sample mean for x\n",
    "cx = cf['x'].mean()\n",
    "#sample mean for y\n",
    "cy = cf['y'].mean()\n",
    "print(\" The sample mean for x is:\",cx,'\\n',\"sample mean for y is\",cy)\n",
    "\n",
    "#get the sample variance for x and y\n",
    "\n",
    "#sample variance for x\n",
    "cxv = cf['x'].var()\n",
    "#sample variance for y\n",
    "cyv = cf['y'].var()\n",
    "print(\" The sample variance for x is:\",cxv,'\\n',\"sample variance for y is\",cyv)"
   ]
  },
  {
   "cell_type": "markdown",
   "metadata": {},
   "source": [
    "##### Dataframe D"
   ]
  },
  {
   "cell_type": "code",
   "execution_count": 44,
   "metadata": {},
   "outputs": [
    {
     "name": "stdout",
     "output_type": "stream",
     "text": [
      " The sample mean for x is: 9.0 \n",
      " sample mean for y is 7.50090909090909\n",
      " The sample variance for x is: 11.0 \n",
      " sample variance for y is 4.12324909090909\n"
     ]
    }
   ],
   "source": [
    "#get the sample mean for x and y\n",
    "\n",
    "#sample mean for x\n",
    "dx = df['x'].mean()\n",
    "#sample mean for y\n",
    "dy = df['y'].mean()\n",
    "print(\" The sample mean for x is:\",dx,'\\n',\"sample mean for y is\",dy)\n",
    "\n",
    "#get the sample variance for x and y\n",
    "\n",
    "#sample variance for x\n",
    "dxv = df['x'].var()\n",
    "#sample variance for y\n",
    "dyv = df['y'].var()\n",
    "print(\" The sample variance for x is:\",dxv,'\\n',\"sample variance for y is\",dyv)"
   ]
  },
  {
   "cell_type": "markdown",
   "metadata": {},
   "source": [
    "#####  Summary statistics compare across the data sets\n",
    "As we can see from below all the sample mean and variance fo each dataset it seems that the sample average and sample variance for X is the same there is a small flucutation with the y sample average but shouldn't make any differences, there is a slight difference between y sample variance as every y sample variance seems to be around the same except for y sample variance from dataframe C and D as its slightly smaller than other y variance\n",
    "###### DATAFRAME A:\n",
    " The sample mean for x is: 9.0 \n",
    " sample mean for y is 7.500909090909093\n",
    " The sample variance for x is: 11.0 \n",
    " sample variance for y is 4.127269090909091\n",
    "###### DATAFRAME B:\n",
    " The sample mean for x is: 9.0 \n",
    " sample mean for y is 7.500909090909091\n",
    " The sample variance for x is: 11.0 \n",
    " sample variance for y is 4.127629090909091\n",
    "###### DATAFRAME C:\n",
    " The sample mean for x is: 9.0 \n",
    " sample mean for y is 7.500000000000001\n",
    " The sample variance for x is: 11.0 \n",
    " sample variance for y is 4.12262\n",
    "###### DATAFRAME D:\n",
    " The sample mean for x is: 9.0 \n",
    " sample mean for y is 7.50090909090909\n",
    " The sample variance for x is: 11.0 \n",
    " sample variance for y is 4.12324909090909"
   ]
  },
  {
   "cell_type": "markdown",
   "metadata": {},
   "source": [
    "### 1b) Design matrix for each dataset"
   ]
  },
  {
   "cell_type": "code",
   "execution_count": 45,
   "metadata": {
    "scrolled": true
   },
   "outputs": [],
   "source": [
    "#use patsy's library to build the design matrix\n",
    "import patsy"
   ]
  },
  {
   "cell_type": "code",
   "execution_count": 46,
   "metadata": {
    "scrolled": false
   },
   "outputs": [],
   "source": [
    "#Matrix for A\n",
    "ya,Xa = patsy.dmatrices(\"y~x\", data = af, return_type = 'dataframe')\n",
    "#print(Xa)\n",
    "#print(Xa.design_info)"
   ]
  },
  {
   "cell_type": "code",
   "execution_count": 47,
   "metadata": {
    "scrolled": false
   },
   "outputs": [],
   "source": [
    "#Matrix for B\n",
    "yb, Xb = patsy.dmatrices(\"y~x\", data = bf, return_type = 'dataframe')\n",
    "#print(Xb)"
   ]
  },
  {
   "cell_type": "code",
   "execution_count": 48,
   "metadata": {},
   "outputs": [],
   "source": [
    "#Matrix for C\n",
    "yc,Xc = patsy.dmatrices(\"y~x\", data = cf, return_type = 'dataframe')\n",
    "#print(Xc)"
   ]
  },
  {
   "cell_type": "code",
   "execution_count": 49,
   "metadata": {
    "scrolled": false
   },
   "outputs": [],
   "source": [
    "#Matrix for D\n",
    "yd,Xd = patsy.dmatrices(\"y~x\", data = df, return_type = 'dataframe')\n",
    "#print(Xd)"
   ]
  },
  {
   "cell_type": "markdown",
   "metadata": {},
   "source": [
    "### 1C) Calculate MLEs"
   ]
  },
  {
   "cell_type": "markdown",
   "metadata": {},
   "source": [
    "$(X^TX)^{-1}X^Ty$"
   ]
  },
  {
   "cell_type": "markdown",
   "metadata": {},
   "source": [
    "##### MLEs for A"
   ]
  },
  {
   "cell_type": "code",
   "execution_count": 50,
   "metadata": {},
   "outputs": [
    {
     "name": "stdout",
     "output_type": "stream",
     "text": [
      "                            OLS Regression Results                            \n",
      "==============================================================================\n",
      "Dep. Variable:                      y   R-squared:                       0.667\n",
      "Model:                            OLS   Adj. R-squared:                  0.629\n",
      "Method:                 Least Squares   F-statistic:                     17.99\n",
      "Date:                Fri, 31 Jan 2020   Prob (F-statistic):            0.00217\n",
      "Time:                        20:57:01   Log-Likelihood:                -16.841\n",
      "No. Observations:                  11   AIC:                             37.68\n",
      "Df Residuals:                       9   BIC:                             38.48\n",
      "Df Model:                           1                                         \n",
      "Covariance Type:            nonrobust                                         \n",
      "==============================================================================\n",
      "                 coef    std err          t      P>|t|      [0.025      0.975]\n",
      "------------------------------------------------------------------------------\n",
      "Intercept      3.0001      1.125      2.667      0.026       0.456       5.544\n",
      "x              0.5001      0.118      4.241      0.002       0.233       0.767\n",
      "==============================================================================\n",
      "Omnibus:                        0.082   Durbin-Watson:                   3.212\n",
      "Prob(Omnibus):                  0.960   Jarque-Bera (JB):                0.289\n",
      "Skew:                          -0.122   Prob(JB):                        0.865\n",
      "Kurtosis:                       2.244   Cond. No.                         29.1\n",
      "==============================================================================\n",
      "\n",
      "Warnings:\n",
      "[1] Standard Errors assume that the covariance matrix of the errors is correctly specified.\n"
     ]
    },
    {
     "name": "stderr",
     "output_type": "stream",
     "text": [
      "C:\\Users\\David\\Anaconda3\\lib\\site-packages\\scipy\\stats\\stats.py:1450: UserWarning: kurtosistest only valid for n>=20 ... continuing anyway, n=11\n",
      "  \"anyway, n=%i\" % int(n))\n"
     ]
    }
   ],
   "source": [
    "mod = sm.OLS(ya, Xa)\n",
    "res = mod.fit()\n",
    "print(res.summary())"
   ]
  },
  {
   "cell_type": "code",
   "execution_count": 51,
   "metadata": {},
   "outputs": [],
   "source": [
    "#convert the columns to ndarray\n",
    "xac = Xa.to_numpy()\n",
    "yac = ya.to_numpy()"
   ]
  },
  {
   "cell_type": "code",
   "execution_count": 52,
   "metadata": {},
   "outputs": [
    {
     "data": {
      "text/plain": [
       "array([[ 82.51],\n",
       "       [797.6 ]])"
      ]
     },
     "execution_count": 52,
     "metadata": {},
     "output_type": "execute_result"
    }
   ],
   "source": [
    "#get the dot product of Xmat and ycol\n",
    "#transpose the Xa data \n",
    "np.dot(np.transpose(xac), yac)"
   ]
  },
  {
   "cell_type": "code",
   "execution_count": 53,
   "metadata": {},
   "outputs": [
    {
     "data": {
      "text/plain": [
       "array([[ 0.82727273, -0.08181818],\n",
       "       [-0.08181818,  0.00909091]])"
      ]
     },
     "execution_count": 53,
     "metadata": {},
     "output_type": "execute_result"
    }
   ],
   "source": [
    "# take the matrix inverse\n",
    "np.linalg.inv(np.dot(np.transpose(xac), xac))"
   ]
  },
  {
   "cell_type": "code",
   "execution_count": 54,
   "metadata": {},
   "outputs": [
    {
     "data": {
      "text/plain": [
       "array([[3.00009091],\n",
       "       [0.50009091]])"
      ]
     },
     "execution_count": 54,
     "metadata": {},
     "output_type": "execute_result"
    }
   ],
   "source": [
    "# find the MLEs\n",
    "np.dot(np.linalg.inv(np.dot(np.transpose(xac), xac)), np.dot(np.transpose(xac), yac))"
   ]
  },
  {
   "cell_type": "code",
   "execution_count": 55,
   "metadata": {},
   "outputs": [
    {
     "name": "stdout",
     "output_type": "stream",
     "text": [
      "Intercept    3.000091\n",
      "x            0.500091\n",
      "dtype: float64\n"
     ]
    }
   ],
   "source": [
    "print(res.params)"
   ]
  },
  {
   "cell_type": "markdown",
   "metadata": {},
   "source": [
    "##### MLEs for B"
   ]
  },
  {
   "cell_type": "code",
   "execution_count": 56,
   "metadata": {},
   "outputs": [
    {
     "name": "stdout",
     "output_type": "stream",
     "text": [
      "                            OLS Regression Results                            \n",
      "==============================================================================\n",
      "Dep. Variable:                      y   R-squared:                       0.666\n",
      "Model:                            OLS   Adj. R-squared:                  0.629\n",
      "Method:                 Least Squares   F-statistic:                     17.97\n",
      "Date:                Fri, 31 Jan 2020   Prob (F-statistic):            0.00218\n",
      "Time:                        20:57:01   Log-Likelihood:                -16.846\n",
      "No. Observations:                  11   AIC:                             37.69\n",
      "Df Residuals:                       9   BIC:                             38.49\n",
      "Df Model:                           1                                         \n",
      "Covariance Type:            nonrobust                                         \n",
      "==============================================================================\n",
      "                 coef    std err          t      P>|t|      [0.025      0.975]\n",
      "------------------------------------------------------------------------------\n",
      "Intercept      3.0009      1.125      2.667      0.026       0.455       5.547\n",
      "x              0.5000      0.118      4.239      0.002       0.233       0.767\n",
      "==============================================================================\n",
      "Omnibus:                        1.594   Durbin-Watson:                   2.188\n",
      "Prob(Omnibus):                  0.451   Jarque-Bera (JB):                1.108\n",
      "Skew:                          -0.567   Prob(JB):                        0.575\n",
      "Kurtosis:                       1.936   Cond. No.                         29.1\n",
      "==============================================================================\n",
      "\n",
      "Warnings:\n",
      "[1] Standard Errors assume that the covariance matrix of the errors is correctly specified.\n"
     ]
    }
   ],
   "source": [
    "mod = sm.OLS(yb,Xb)\n",
    "res = mod.fit()\n",
    "print(res.summary())"
   ]
  },
  {
   "cell_type": "code",
   "execution_count": 57,
   "metadata": {},
   "outputs": [],
   "source": [
    "xbc = Xb.to_numpy()\n",
    "ybc = yb.to_numpy()"
   ]
  },
  {
   "cell_type": "code",
   "execution_count": 58,
   "metadata": {},
   "outputs": [
    {
     "data": {
      "text/plain": [
       "array([[  11.,   99.],\n",
       "       [  99., 1001.]])"
      ]
     },
     "execution_count": 58,
     "metadata": {},
     "output_type": "execute_result"
    }
   ],
   "source": [
    "np.dot(np.transpose(xbc),xbc)"
   ]
  },
  {
   "cell_type": "code",
   "execution_count": 59,
   "metadata": {},
   "outputs": [
    {
     "data": {
      "text/plain": [
       "array([[ 0.82727273, -0.08181818],\n",
       "       [-0.08181818,  0.00909091]])"
      ]
     },
     "execution_count": 59,
     "metadata": {},
     "output_type": "execute_result"
    }
   ],
   "source": [
    "np.linalg.inv(np.dot(np.transpose(xbc),xbc))"
   ]
  },
  {
   "cell_type": "code",
   "execution_count": 60,
   "metadata": {},
   "outputs": [
    {
     "data": {
      "text/plain": [
       "array([[3.00090909],\n",
       "       [0.5       ]])"
      ]
     },
     "execution_count": 60,
     "metadata": {},
     "output_type": "execute_result"
    }
   ],
   "source": [
    "np.dot(np.linalg.inv(np.dot(np.transpose(xbc), xbc)), np.dot(np.transpose(xbc), ybc))"
   ]
  },
  {
   "cell_type": "code",
   "execution_count": 61,
   "metadata": {},
   "outputs": [
    {
     "name": "stdout",
     "output_type": "stream",
     "text": [
      "Intercept    3.000909\n",
      "x            0.500000\n",
      "dtype: float64\n"
     ]
    }
   ],
   "source": [
    "#check the MLEs\n",
    "print(res.params)"
   ]
  },
  {
   "cell_type": "markdown",
   "metadata": {},
   "source": [
    "##### MLEs for C"
   ]
  },
  {
   "cell_type": "code",
   "execution_count": 62,
   "metadata": {},
   "outputs": [],
   "source": [
    "mod = sm.OLS(yc,Xc)"
   ]
  },
  {
   "cell_type": "code",
   "execution_count": 63,
   "metadata": {},
   "outputs": [],
   "source": [
    "#convert to ndarray\n",
    "xcc = Xc.to_numpy()\n",
    "ycc = yc.to_numpy()"
   ]
  },
  {
   "cell_type": "code",
   "execution_count": 64,
   "metadata": {},
   "outputs": [
    {
     "data": {
      "text/plain": [
       "array([[  11.,   99.],\n",
       "       [  99., 1001.]])"
      ]
     },
     "execution_count": 64,
     "metadata": {},
     "output_type": "execute_result"
    }
   ],
   "source": [
    "np.dot(np.transpose(xcc),xcc)"
   ]
  },
  {
   "cell_type": "code",
   "execution_count": 65,
   "metadata": {},
   "outputs": [
    {
     "data": {
      "text/plain": [
       "array([[3.00245455],\n",
       "       [0.49972727]])"
      ]
     },
     "execution_count": 65,
     "metadata": {},
     "output_type": "execute_result"
    }
   ],
   "source": [
    "# find the MLEs\n",
    "np.dot(np.linalg.inv(np.dot(np.transpose(xcc), xcc)), np.dot(np.transpose(xcc), ycc))"
   ]
  },
  {
   "cell_type": "code",
   "execution_count": 66,
   "metadata": {
    "scrolled": false
   },
   "outputs": [
    {
     "name": "stdout",
     "output_type": "stream",
     "text": [
      "Intercept    3.000909\n",
      "x            0.500000\n",
      "dtype: float64\n"
     ]
    }
   ],
   "source": [
    "print(res.params)"
   ]
  },
  {
   "cell_type": "markdown",
   "metadata": {},
   "source": [
    "##### MLEs for D"
   ]
  },
  {
   "cell_type": "code",
   "execution_count": 67,
   "metadata": {},
   "outputs": [
    {
     "name": "stdout",
     "output_type": "stream",
     "text": [
      "                            OLS Regression Results                            \n",
      "==============================================================================\n",
      "Dep. Variable:                      y   R-squared:                       0.667\n",
      "Model:                            OLS   Adj. R-squared:                  0.630\n",
      "Method:                 Least Squares   F-statistic:                     18.00\n",
      "Date:                Fri, 31 Jan 2020   Prob (F-statistic):            0.00216\n",
      "Time:                        20:57:01   Log-Likelihood:                -16.833\n",
      "No. Observations:                  11   AIC:                             37.67\n",
      "Df Residuals:                       9   BIC:                             38.46\n",
      "Df Model:                           1                                         \n",
      "Covariance Type:            nonrobust                                         \n",
      "==============================================================================\n",
      "                 coef    std err          t      P>|t|      [0.025      0.975]\n",
      "------------------------------------------------------------------------------\n",
      "Intercept      3.0017      1.124      2.671      0.026       0.459       5.544\n",
      "x              0.4999      0.118      4.243      0.002       0.233       0.766\n",
      "==============================================================================\n",
      "Omnibus:                        0.555   Durbin-Watson:                   1.662\n",
      "Prob(Omnibus):                  0.758   Jarque-Bera (JB):                0.524\n",
      "Skew:                           0.010   Prob(JB):                        0.769\n",
      "Kurtosis:                       1.931   Cond. No.                         29.1\n",
      "==============================================================================\n",
      "\n",
      "Warnings:\n",
      "[1] Standard Errors assume that the covariance matrix of the errors is correctly specified.\n"
     ]
    }
   ],
   "source": [
    "mod = sm.OLS(yd,Xd)\n",
    "res = mod.fit()\n",
    "print(res.summary())"
   ]
  },
  {
   "cell_type": "code",
   "execution_count": 68,
   "metadata": {},
   "outputs": [],
   "source": [
    "xdc = Xd.to_numpy()\n",
    "ydc = yd.to_numpy()"
   ]
  },
  {
   "cell_type": "code",
   "execution_count": 69,
   "metadata": {},
   "outputs": [
    {
     "data": {
      "text/plain": [
       "array([[  11.,   99.],\n",
       "       [  99., 1001.]])"
      ]
     },
     "execution_count": 69,
     "metadata": {},
     "output_type": "execute_result"
    }
   ],
   "source": [
    "np.dot(np.transpose(xdc),xdc)"
   ]
  },
  {
   "cell_type": "code",
   "execution_count": 70,
   "metadata": {
    "scrolled": true
   },
   "outputs": [
    {
     "data": {
      "text/plain": [
       "array([[ 9.399],\n",
       "       [-0.211]])"
      ]
     },
     "execution_count": 70,
     "metadata": {},
     "output_type": "execute_result"
    }
   ],
   "source": [
    "np.dot(np.linalg.inv(np.dot(np.transpose(xdc), xdc)), np.dot(np.transpose(xdc),ycc))"
   ]
  },
  {
   "cell_type": "code",
   "execution_count": 71,
   "metadata": {
    "scrolled": true
   },
   "outputs": [
    {
     "name": "stdout",
     "output_type": "stream",
     "text": [
      "Intercept    3.001727\n",
      "x            0.499909\n",
      "dtype: float64\n"
     ]
    }
   ],
   "source": [
    "print(res.params)"
   ]
  },
  {
   "cell_type": "markdown",
   "metadata": {},
   "source": [
    "##### A.csv MLEs:\n",
    "Intercept=3.000091,\n",
    "x=0.500091\n",
    "##### B.csv MLEs:\n",
    "Intercept=3.000909,\n",
    "x=0.500000\n",
    "##### C.csv MLEs:\n",
    "Intercept=3.000909,\n",
    "x=0.500000\n",
    "##### D.csv MLEs:\n",
    "Intercept=3.001727,\n",
    "x=0.499909\n",
    "\n",
    "##### Conclusion:\n",
    "For all the intercept in mles are very close, the x value for the all mles are extremely close hoovering around 0.50000 except for x-value at D.csv where it's 0.49999 but if you round it up it would be the same"
   ]
  },
  {
   "cell_type": "markdown",
   "metadata": {},
   "source": [
    "### 1d) Calculate the Mean Squared Error (MSE)"
   ]
  },
  {
   "cell_type": "code",
   "execution_count": 72,
   "metadata": {},
   "outputs": [],
   "source": [
    "#using sklearn's linear model to get the mean squared error\n",
    "from sklearn import linear_model\n",
    "#using sklearn's metrics to check if the mse result is correct\n",
    "from sklearn.metrics import mean_squared_error"
   ]
  },
  {
   "cell_type": "markdown",
   "metadata": {},
   "source": [
    "##### MSE for A.csv"
   ]
  },
  {
   "cell_type": "code",
   "execution_count": 73,
   "metadata": {},
   "outputs": [
    {
     "name": "stdout",
     "output_type": "stream",
     "text": [
      "[[0.50009091]]\n"
     ]
    }
   ],
   "source": [
    "#data for the linear regression model\n",
    "x = af[['x']]\n",
    "y = af[['y']]\n",
    "#implementing the regression model\n",
    "lm = linear_model.LinearRegression()\n",
    "lm.fit(x,y)\n",
    "#check the coefficient\n",
    "print(lm.coef_)"
   ]
  },
  {
   "cell_type": "code",
   "execution_count": 74,
   "metadata": {},
   "outputs": [
    {
     "data": {
      "text/plain": [
       "y    1.251154\n",
       "dtype: float64"
      ]
     },
     "execution_count": 74,
     "metadata": {},
     "output_type": "execute_result"
    }
   ],
   "source": [
    "#MSE for A.csv\n",
    "np.mean((lm.predict(x)-y)**2)"
   ]
  },
  {
   "cell_type": "code",
   "execution_count": 75,
   "metadata": {},
   "outputs": [
    {
     "data": {
      "text/plain": [
       "1.2511536363636362"
      ]
     },
     "execution_count": 75,
     "metadata": {},
     "output_type": "execute_result"
    }
   ],
   "source": [
    "#check the mse value \n",
    "mean_squared_error(y,lm.predict(x))"
   ]
  },
  {
   "cell_type": "markdown",
   "metadata": {},
   "source": [
    "##### MSE for B.csv"
   ]
  },
  {
   "cell_type": "code",
   "execution_count": 76,
   "metadata": {},
   "outputs": [
    {
     "data": {
      "text/plain": [
       "LinearRegression(copy_X=True, fit_intercept=True, n_jobs=None, normalize=False)"
      ]
     },
     "execution_count": 76,
     "metadata": {},
     "output_type": "execute_result"
    }
   ],
   "source": [
    "#data for the linear regression model\n",
    "x = bf[['x']]\n",
    "y = bf[['y']]\n",
    "#implementing the model\n",
    "lm = linear_model.LinearRegression()\n",
    "lm.fit(x,y)"
   ]
  },
  {
   "cell_type": "code",
   "execution_count": 77,
   "metadata": {},
   "outputs": [
    {
     "data": {
      "text/plain": [
       "y    1.25239\n",
       "dtype: float64"
      ]
     },
     "execution_count": 77,
     "metadata": {},
     "output_type": "execute_result"
    }
   ],
   "source": [
    "#use numpy.mean to get the mse value \n",
    "np.mean((lm.predict(x)-y)**2)"
   ]
  },
  {
   "cell_type": "code",
   "execution_count": 78,
   "metadata": {},
   "outputs": [
    {
     "data": {
      "text/plain": [
       "1.2523900826446281"
      ]
     },
     "execution_count": 78,
     "metadata": {},
     "output_type": "execute_result"
    }
   ],
   "source": [
    "#check using metrics.mse\n",
    "mean_squared_error(y,lm.predict(x))"
   ]
  },
  {
   "cell_type": "markdown",
   "metadata": {},
   "source": [
    "##### MSE for C.csv"
   ]
  },
  {
   "cell_type": "code",
   "execution_count": 79,
   "metadata": {},
   "outputs": [
    {
     "data": {
      "text/plain": [
       "LinearRegression(copy_X=True, fit_intercept=True, n_jobs=None, normalize=False)"
      ]
     },
     "execution_count": 79,
     "metadata": {},
     "output_type": "execute_result"
    }
   ],
   "source": [
    "#data for linear regression model\n",
    "x = cf[['x']]\n",
    "y = cf[['y']]\n",
    "#implementing the linear regression \n",
    "lm = linear_model.LinearRegression()\n",
    "lm.fit(x,y)"
   ]
  },
  {
   "cell_type": "code",
   "execution_count": 80,
   "metadata": {},
   "outputs": [
    {
     "data": {
      "text/plain": [
       "y    1.250563\n",
       "dtype: float64"
      ]
     },
     "execution_count": 80,
     "metadata": {},
     "output_type": "execute_result"
    }
   ],
   "source": [
    "#implement np.mean to get the mse value\n",
    "np.mean((lm.predict(x)-y)**2)"
   ]
  },
  {
   "cell_type": "code",
   "execution_count": 81,
   "metadata": {},
   "outputs": [
    {
     "data": {
      "text/plain": [
       "1.2505628925619836"
      ]
     },
     "execution_count": 81,
     "metadata": {},
     "output_type": "execute_result"
    }
   ],
   "source": [
    "#using metrics to check the mse value\n",
    "mean_squared_error(y,lm.predict(x))"
   ]
  },
  {
   "cell_type": "markdown",
   "metadata": {},
   "source": [
    "##### MSE for D.csv"
   ]
  },
  {
   "cell_type": "code",
   "execution_count": 82,
   "metadata": {},
   "outputs": [
    {
     "data": {
      "text/plain": [
       "LinearRegression(copy_X=True, fit_intercept=True, n_jobs=None, normalize=False)"
      ]
     },
     "execution_count": 82,
     "metadata": {},
     "output_type": "execute_result"
    }
   ],
   "source": [
    "#data for the linear regression model\n",
    "x = df[['x']]\n",
    "y = df[['y']]\n",
    "#implement the linear regression model\n",
    "lm = linear_model.LinearRegression()\n",
    "lm.fit(x,y)"
   ]
  },
  {
   "cell_type": "code",
   "execution_count": 83,
   "metadata": {},
   "outputs": [
    {
     "data": {
      "text/plain": [
       "y    1.249317\n",
       "dtype: float64"
      ]
     },
     "execution_count": 83,
     "metadata": {},
     "output_type": "execute_result"
    }
   ],
   "source": [
    "#implement np.mean to get the mse value\n",
    "np.mean((lm.predict(x)-y)**2)"
   ]
  },
  {
   "cell_type": "code",
   "execution_count": 84,
   "metadata": {},
   "outputs": [
    {
     "data": {
      "text/plain": [
       "1.249317272727273"
      ]
     },
     "execution_count": 84,
     "metadata": {},
     "output_type": "execute_result"
    }
   ],
   "source": [
    "#using metrics to double check if the mse value is correct\n",
    "mean_squared_error(y,lm.predict(x))"
   ]
  },
  {
   "cell_type": "markdown",
   "metadata": {},
   "source": [
    "##### A.csv MSE\n",
    "y=1.251154\n",
    "\n",
    "##### B.csv MSE\n",
    "y=1.25239\n",
    "\n",
    "##### C.csv MSE\n",
    "y=1.250563\n",
    "\n",
    "##### D.csv MSE\n",
    "y=1.249317\n",
    "\n",
    "##### Conclusion:\n",
    "All the MSE value are hovering around 1.25 some of a and c are .01 and .02 bigger and d is .01 smaller other that theres not much deviation from 1.25"
   ]
  },
  {
   "cell_type": "markdown",
   "metadata": {},
   "source": [
    "\n",
    "### 1e) R-squared values for each model"
   ]
  },
  {
   "cell_type": "markdown",
   "metadata": {},
   "source": [
    "##### The $R^2$value for A.csv"
   ]
  },
  {
   "cell_type": "code",
   "execution_count": 85,
   "metadata": {},
   "outputs": [],
   "source": [
    "#implementing sklearn library for linear regression to get the r^2 value\n",
    "from sklearn import linear_model\n",
    "#implementing sklearn.metrics to check the r^2 value\n",
    "from sklearn.metrics import r2_score as r2"
   ]
  },
  {
   "cell_type": "code",
   "execution_count": 86,
   "metadata": {},
   "outputs": [
    {
     "data": {
      "text/plain": [
       "LinearRegression(copy_X=True, fit_intercept=True, n_jobs=None, normalize=False)"
      ]
     },
     "execution_count": 86,
     "metadata": {},
     "output_type": "execute_result"
    }
   ],
   "source": [
    "#create the x and y value for the linear regression\n",
    "x = af[['x']]\n",
    "y = af[['y']]\n",
    "#calling the linear regression function from linear_model\n",
    "lm = linear_model.LinearRegression()\n",
    "#fit the variable in an linear regression\n",
    "lm.fit(x,y)"
   ]
  },
  {
   "cell_type": "code",
   "execution_count": 87,
   "metadata": {},
   "outputs": [
    {
     "name": "stdout",
     "output_type": "stream",
     "text": [
      "The R^2 value for A.csv is: 0.666542459508775\n"
     ]
    }
   ],
   "source": [
    "rs = lm.score(x,y)\n",
    "print(\"The R^2 value for A.csv is:\",rs)"
   ]
  },
  {
   "cell_type": "code",
   "execution_count": 88,
   "metadata": {},
   "outputs": [
    {
     "data": {
      "text/plain": [
       "0.666542459508775"
      ]
     },
     "execution_count": 88,
     "metadata": {},
     "output_type": "execute_result"
    }
   ],
   "source": [
    "#check the r^2 value\n",
    "r2(y,lm.predict(x))"
   ]
  },
  {
   "cell_type": "markdown",
   "metadata": {},
   "source": [
    "##### The $R^2$value for B.csv"
   ]
  },
  {
   "cell_type": "code",
   "execution_count": 89,
   "metadata": {},
   "outputs": [
    {
     "data": {
      "text/plain": [
       "LinearRegression(copy_X=True, fit_intercept=True, n_jobs=None, normalize=False)"
      ]
     },
     "execution_count": 89,
     "metadata": {},
     "output_type": "execute_result"
    }
   ],
   "source": [
    "#create the x and y value for the linear model\n",
    "x = bf[['x']]\n",
    "y = bf[['y']]\n",
    "#implementing the linear regression\n",
    "lm = linear_model.LinearRegression()\n",
    "lm.fit(x,y)"
   ]
  },
  {
   "cell_type": "code",
   "execution_count": 90,
   "metadata": {},
   "outputs": [
    {
     "name": "stdout",
     "output_type": "stream",
     "text": [
      "The R^2 value for B.csv is: 0.6662420337274844\n"
     ]
    }
   ],
   "source": [
    "#getting the r^2 value for the model\n",
    "rs = lm.score(x,y)\n",
    "print(\"The R^2 value for B.csv is:\",rs)"
   ]
  },
  {
   "cell_type": "code",
   "execution_count": 91,
   "metadata": {},
   "outputs": [
    {
     "data": {
      "text/plain": [
       "0.6662420337274844"
      ]
     },
     "execution_count": 91,
     "metadata": {},
     "output_type": "execute_result"
    }
   ],
   "source": [
    "#check the r^2 value\n",
    "r2(y,lm.predict(x))"
   ]
  },
  {
   "cell_type": "markdown",
   "metadata": {},
   "source": [
    "##### The $R^2$value for C.csv"
   ]
  },
  {
   "cell_type": "code",
   "execution_count": 92,
   "metadata": {},
   "outputs": [
    {
     "data": {
      "text/plain": [
       "LinearRegression(copy_X=True, fit_intercept=True, n_jobs=None, normalize=False)"
      ]
     },
     "execution_count": 92,
     "metadata": {},
     "output_type": "execute_result"
    }
   ],
   "source": [
    "#create the x and y value for the linear model\n",
    "x = cf[['x']]\n",
    "y = cf[['y']]\n",
    "#implementing the linear model\n",
    "lm = linear_model.LinearRegression()\n",
    "lm.fit(x,y)"
   ]
  },
  {
   "cell_type": "code",
   "execution_count": 93,
   "metadata": {},
   "outputs": [
    {
     "name": "stdout",
     "output_type": "stream",
     "text": [
      "The R^2 value for C.csv is: 0.6663240410665592\n"
     ]
    }
   ],
   "source": [
    "#getting the r^2 value\n",
    "rs = lm.score(x,y)\n",
    "print(\"The R^2 value for C.csv is:\",rs)"
   ]
  },
  {
   "cell_type": "code",
   "execution_count": 94,
   "metadata": {},
   "outputs": [
    {
     "data": {
      "text/plain": [
       "0.6663240410665592"
      ]
     },
     "execution_count": 94,
     "metadata": {},
     "output_type": "execute_result"
    }
   ],
   "source": [
    "#check the r^2 value\n",
    "r2(y,lm.predict(x))"
   ]
  },
  {
   "cell_type": "markdown",
   "metadata": {},
   "source": [
    "##### The $R^2$value for D.csv"
   ]
  },
  {
   "cell_type": "code",
   "execution_count": 95,
   "metadata": {},
   "outputs": [
    {
     "data": {
      "text/plain": [
       "LinearRegression(copy_X=True, fit_intercept=True, n_jobs=None, normalize=False)"
      ]
     },
     "execution_count": 95,
     "metadata": {},
     "output_type": "execute_result"
    }
   ],
   "source": [
    "X = df[['x']]\n",
    "y = df[['y']]\n",
    "lm = linear_model.LinearRegression()\n",
    "lm.fit(x,y)"
   ]
  },
  {
   "cell_type": "code",
   "execution_count": 96,
   "metadata": {},
   "outputs": [
    {
     "name": "stdout",
     "output_type": "stream",
     "text": [
      "The R^2 value for D.csv is: 0.09862533386071981\n"
     ]
    }
   ],
   "source": [
    "rs = lm.score(x,y)\n",
    "print(\"The R^2 value for D.csv is:\", rs)"
   ]
  },
  {
   "cell_type": "code",
   "execution_count": 97,
   "metadata": {},
   "outputs": [
    {
     "data": {
      "text/plain": [
       "0.09862533386071981"
      ]
     },
     "execution_count": 97,
     "metadata": {},
     "output_type": "execute_result"
    }
   ],
   "source": [
    "#check the r^2 value\n",
    "r2(y,lm.predict(x))"
   ]
  },
  {
   "cell_type": "markdown",
   "metadata": {},
   "source": [
    "##### A.csv $R^2$ \n",
    "The R^2 value for A.csv is: 0.666542459508775\n",
    "##### B.csv $R^2$ \n",
    "The R^2 value for B.csv is: 0.6662420337274844\n",
    "##### C.csv $R^2$ \n",
    "The R^2 value for C.csv is: 0.6663240410665592\n",
    "##### D.csv $R^2$ \n",
    "The R^2 value for D.csv is: 0.6667072568984653\n",
    "\n",
    "##### Conclusion"
   ]
  },
  {
   "cell_type": "markdown",
   "metadata": {},
   "source": [
    "##### 1f) compare MSE to $R^2$ Value"
   ]
  },
  {
   "cell_type": "markdown",
   "metadata": {},
   "source": [
    "The R^2 value for the model is better fit because the value for the MSE is over one after reading through multiple documentation and the slides from class it seems that the greater the MSE value the less accurate it is so therefore\n",
    "the R^2 value for the model would be better suited."
   ]
  },
  {
   "cell_type": "markdown",
   "metadata": {},
   "source": [
    "##### 1g) Scatter plot"
   ]
  },
  {
   "cell_type": "code",
   "execution_count": 98,
   "metadata": {},
   "outputs": [],
   "source": [
    "#import libraries necessary to create the scatterplot\n",
    "%matplotlib inline\n",
    "import matplotlib.pyplot as plt\n",
    "plt.style.use('seaborn-whitegrid')\n",
    "#####\n",
    "from mlxtend.plotting import plot_linear_regression"
   ]
  },
  {
   "cell_type": "code",
   "execution_count": 99,
   "metadata": {},
   "outputs": [],
   "source": [
    "import seaborn as sns; sns.set()\n",
    "#sns.set(color_codes = True)"
   ]
  },
  {
   "cell_type": "markdown",
   "metadata": {},
   "source": [
    "##### Scatter plot for A.csv"
   ]
  },
  {
   "cell_type": "code",
   "execution_count": 100,
   "metadata": {},
   "outputs": [
    {
     "data": {
      "text/plain": [
       "<seaborn.axisgrid.FacetGrid at 0x26b7a971608>"
      ]
     },
     "execution_count": 100,
     "metadata": {},
     "output_type": "execute_result"
    },
    {
     "data": {
      "image/png": "[encoded data removed]",
      "text/plain": [
       "<Figure size 360x360 with 1 Axes>"
      ]
     },
     "metadata": {},
     "output_type": "display_data"
    }
   ],
   "source": [
    "sns.lmplot(x='x', y='y', data=af)"
   ]
  },
  {
   "cell_type": "markdown",
   "metadata": {},
   "source": [
    "##### Scatter plot for B.csv"
   ]
  },
  {
   "cell_type": "code",
   "execution_count": 101,
   "metadata": {},
   "outputs": [
    {
     "data": {
      "text/plain": [
       "<seaborn.axisgrid.FacetGrid at 0x26b7a9f4a48>"
      ]
     },
     "execution_count": 101,
     "metadata": {},
     "output_type": "execute_result"
    },
    {
     "data": {
      "image/png": "[encoded data removed]",
      "text/plain": [
       "<Figure size 360x360 with 1 Axes>"
      ]
     },
     "metadata": {},
     "output_type": "display_data"
    }
   ],
   "source": [
    "sns.lmplot(x='x',y='y',data=bf)"
   ]
  },
  {
   "cell_type": "markdown",
   "metadata": {},
   "source": [
    "##### Scatter plot for C.csv"
   ]
  },
  {
   "cell_type": "code",
   "execution_count": 102,
   "metadata": {},
   "outputs": [
    {
     "data": {
      "text/plain": [
       "<seaborn.axisgrid.FacetGrid at 0x26b7aa673c8>"
      ]
     },
     "execution_count": 102,
     "metadata": {},
     "output_type": "execute_result"
    },
    {
     "data": {
      "image/png": "[encoded data removed]",
      "text/plain": [
       "<Figure size 360x360 with 1 Axes>"
      ]
     },
     "metadata": {},
     "output_type": "display_data"
    }
   ],
   "source": [
    "sns.lmplot(x='x',y='y',data=cf)"
   ]
  },
  {
   "cell_type": "markdown",
   "metadata": {},
   "source": [
    "##### Scatter plot for D.csv"
   ]
  },
  {
   "cell_type": "code",
   "execution_count": 103,
   "metadata": {
    "scrolled": false
   },
   "outputs": [
    {
     "data": {
      "text/plain": [
       "<seaborn.axisgrid.FacetGrid at 0x26b7aaceb08>"
      ]
     },
     "execution_count": 103,
     "metadata": {},
     "output_type": "execute_result"
    },
    {
     "data": {
      "image/png": "[encoded data removed]",
      "text/plain": [
       "<Figure size 360x360 with 1 Axes>"
      ]
     },
     "metadata": {},
     "output_type": "display_data"
    }
   ],
   "source": [
    "sns.lmplot(x='x',y='y',data=df)"
   ]
  },
  {
   "cell_type": "code",
   "execution_count": 104,
   "metadata": {},
   "outputs": [],
   "source": [
    "#import necessary library to complete the task\n",
    "import numpy as np\n",
    "import matplotlib.pyplot as plt\n",
    "from scipy.stats import norm\n",
    "import scipy.integrate as integrate\n",
    "import scipy.stats as stats\n",
    "import seaborn as sns\n",
    "%matplotlib inline"
   ]
  },
  {
   "cell_type": "markdown",
   "metadata": {},
   "source": [
    "### 2a)"
   ]
  },
  {
   "cell_type": "code",
   "execution_count": 105,
   "metadata": {},
   "outputs": [],
   "source": [
    "#calculate the mu trend\n",
    "def calcmu(x,b0,b1):\n",
    "    mu = []\n",
    "    for i in x:\n",
    "        mu.append(b0 + b1*i)\n",
    "    return mu"
   ]
  },
  {
   "cell_type": "code",
   "execution_count": 106,
   "metadata": {},
   "outputs": [],
   "source": [
    "#upper and lower confidence level \n",
    "def updwn(arr,sigma):\n",
    "    returnArr = [] \n",
    "    for element in arr:\n",
    "        returnArr.append(element+2*sigma)\n",
    "    return returnArr"
   ]
  },
  {
   "cell_type": "code",
   "execution_count": 107,
   "metadata": {},
   "outputs": [],
   "source": [
    "#variable quantities \n",
    "b0 = 0.5\n",
    "b1 = 2.5\n",
    "sigma = 1.25\n",
    "x = [-3,-2,-1,0,1,2,3]\n",
    "mu = calcmu(x,b0,b1)"
   ]
  },
  {
   "cell_type": "code",
   "execution_count": 108,
   "metadata": {},
   "outputs": [],
   "source": [
    "#95 ci = 2 sig || uper and lower bound\n",
    "upper = updwn(mu, 2*sigma)\n",
    "lower = updwn(mu, -2*sigma)"
   ]
  },
  {
   "cell_type": "code",
   "execution_count": 109,
   "metadata": {
    "scrolled": false
   },
   "outputs": [
    {
     "data": {
      "text/plain": [
       "<matplotlib.legend.Legend at 0x26b7ab64fc8>"
      ]
     },
     "execution_count": 109,
     "metadata": {},
     "output_type": "execute_result"
    },
    {
     "data": {
      "image/png": "[encoded data removed]",
      "text/plain": [
       "<Figure size 432x288 with 1 Axes>"
      ]
     },
     "metadata": {
      "needs_background": "light"
     },
     "output_type": "display_data"
    }
   ],
   "source": [
    "#draw mean trend line with 95 confidence interval \n",
    "plt.title(\"95% Confidence Mean Trend Line\")\n",
    "plt.xlabel(\"x\")\n",
    "plt.ylabel(\"y\")\n",
    "plt.plot(x,upper, color=\"blue\", label=\"Upper\")\n",
    "plt.plot(x,mu, color=\"black\", label=\"Mean Trend\")\n",
    "plt.plot(x,lower, color=\"green\", label=\"Lower\")\n",
    "plt.legend()"
   ]
  },
  {
   "cell_type": "markdown",
   "metadata": {},
   "source": [
    "### 2B)"
   ]
  },
  {
   "cell_type": "code",
   "execution_count": 110,
   "metadata": {},
   "outputs": [],
   "source": [
    "#integrate the 0 to infintiy to get the probabiliyt of y which is greater than 0\n",
    "#input the start and end value in the function \n",
    "def gpy(num1,num2):\n",
    "    area = []\n",
    "    for i in mu:\n",
    "#Gaussian PDF \n",
    "        def gpdf(x):\n",
    "            value = stats.norm.pdf(x,i,sigma)\n",
    "            return value\n",
    "        valuex = (integrate.quad(gpdf,num1,num2))\n",
    "        area.append(valuex[0])\n",
    "    return area"
   ]
  },
  {
   "cell_type": "code",
   "execution_count": 111,
   "metadata": {},
   "outputs": [
    {
     "data": {
      "text/plain": [
       "Text(0.5, 1.0, 'probability of y>0')"
      ]
     },
     "execution_count": 111,
     "metadata": {},
     "output_type": "execute_result"
    },
    {
     "data": {
      "image/png": "[encoded data removed]",
      "text/plain": [
       "<Figure size 432x288 with 1 Axes>"
      ]
     },
     "metadata": {
      "needs_background": "light"
     },
     "output_type": "display_data"
    }
   ],
   "source": [
    "#plot probability when y > 0\n",
    "sigma = 1.25\n",
    "plt.plot(x,gpy(0,np.inf))\n",
    "plt.xlabel(\"x\")\n",
    "plt.ylabel(\"probability of y\")\n",
    "plt.title(\"probability of y>0\")"
   ]
  },
  {
   "cell_type": "markdown",
   "metadata": {},
   "source": [
    "### 2C)"
   ]
  },
  {
   "cell_type": "code",
   "execution_count": 112,
   "metadata": {},
   "outputs": [
    {
     "data": {
      "text/plain": [
       "[<matplotlib.lines.Line2D at 0x26b7abf6a88>]"
      ]
     },
     "execution_count": 112,
     "metadata": {},
     "output_type": "execute_result"
    },
    {
     "data": {
      "image/png": "[encoded data removed]",
      "text/plain": [
       "<Figure size 432x288 with 1 Axes>"
      ]
     },
     "metadata": {
      "needs_background": "light"
     },
     "output_type": "display_data"
    }
   ],
   "source": [
    "#x-label\n",
    "plt.xlabel(\"x\")\n",
    "#y-label\n",
    "plt.ylabel(\"probability of y\")\n",
    "#header\n",
    "plt.title(\"probability of y>0 and y<2.5\")\n",
    "plt.plot(x,gpy(0,2.5))"
   ]
  },
  {
   "cell_type": "markdown",
   "metadata": {},
   "source": [
    "### 2D)"
   ]
  },
  {
   "cell_type": "code",
   "execution_count": 113,
   "metadata": {},
   "outputs": [
    {
     "data": {
      "text/plain": [
       "[<matplotlib.lines.Line2D at 0x26b7ac64cc8>]"
      ]
     },
     "execution_count": 113,
     "metadata": {},
     "output_type": "execute_result"
    },
    {
     "data": {
      "image/png": "[encoded data removed]",
      "text/plain": [
       "<Figure size 432x288 with 1 Axes>"
      ]
     },
     "metadata": {
      "needs_background": "light"
     },
     "output_type": "display_data"
    }
   ],
   "source": [
    "#noise of 0.25 so sigma = 0.25\n",
    "sigma = 0.25\n",
    "plt.xlabel(\"x\")\n",
    "plt.ylabel(\"probability of y\")\n",
    "plt.title(\"probability of of y>0 and y<2.5 when sigma is 0.25\")\n",
    "plt.plot(x,gpy(0,2.5))"
   ]
  },
  {
   "cell_type": "markdown",
   "metadata": {},
   "source": [
    "### 2E)"
   ]
  },
  {
   "cell_type": "code",
   "execution_count": 114,
   "metadata": {
    "scrolled": true
   },
   "outputs": [
    {
     "data": {
      "text/plain": [
       "<matplotlib.legend.Legend at 0x26b7acd1f48>"
      ]
     },
     "execution_count": 114,
     "metadata": {},
     "output_type": "execute_result"
    },
    {
     "data": {
      "image/png": "[encoded data removed]",
      "text/plain": [
       "<Figure size 432x288 with 1 Axes>"
      ]
     },
     "metadata": {
      "needs_background": "light"
     },
     "output_type": "display_data"
    }
   ],
   "source": [
    "#x-axis\n",
    "plt.xlabel(\"x\")\n",
    "#y-axis\n",
    "plt.ylabel(\"probability of y\")\n",
    "#header of the graph\n",
    "plt.title(\"y when sigma = 0.25 and 1.25\")\n",
    "#standard deviation\n",
    "sigma = 1.25\n",
    "\n",
    "###########################################################\n",
    "#label noise data\n",
    "high_noise = plt.plot(x,gpy(0,2.5), label='high')\n",
    "sigma = 0.25\n",
    "low_noise = plt.plot(x,gpy(0,2.5), label='low')\n",
    "plt.legend()"
   ]
  },
  {
   "cell_type": "markdown",
   "metadata": {},
   "source": [
    "# 3"
   ]
  },
  {
   "cell_type": "code",
   "execution_count": 115,
   "metadata": {},
   "outputs": [],
   "source": [
    "p3high = pd.read_csv(\"problem_03/high_noise_data.csv\")\n",
    "p3low = pd.read_csv(\"problem_03/low_noise_data.csv\")"
   ]
  },
  {
   "cell_type": "code",
   "execution_count": 198,
   "metadata": {},
   "outputs": [],
   "source": [
    "#MLE for calculating true mean\n",
    "p3b0 = -1 \n",
    "p3b1 = 1\n",
    "p3b2 = 0.5\n",
    "p3b3 = -0.25"
   ]
  },
  {
   "cell_type": "code",
   "execution_count": 199,
   "metadata": {},
   "outputs": [
    {
     "data": {
      "text/plain": [
       "True"
      ]
     },
     "execution_count": 199,
     "metadata": {},
     "output_type": "execute_result"
    }
   ],
   "source": [
    "#compare x values from 2 datasets and take one as x value to get ture mean \n",
    "p3xhigh = p3high['x']\n",
    "p3xlow  = p3low['x']\n",
    "p3yhigh = p3high['y']\n",
    "p3ylow = p3low['y']\n",
    "set(p3xhigh) == set(p3xlow)"
   ]
  },
  {
   "cell_type": "code",
   "execution_count": 200,
   "metadata": {},
   "outputs": [],
   "source": [
    "#get x values \n",
    "p3x = p3xlow  = p3low['x']"
   ]
  },
  {
   "cell_type": "code",
   "execution_count": 201,
   "metadata": {},
   "outputs": [],
   "source": [
    "#fucntion to calculate true mean with equation provided \n",
    "def getTrueMean(x):\n",
    "    mean = []\n",
    "    for i in x:\n",
    "        mu = (p3b0 + p3b1*i + p3b2*i**2 + p3b3*i**3)\n",
    "        mean.append(mu)\n",
    "    return mean"
   ]
  },
  {
   "cell_type": "code",
   "execution_count": 204,
   "metadata": {},
   "outputs": [],
   "source": [
    "truemean = getTrueMean(p3x)\n",
    "sigma = 0.55\n",
    "p3lowupper = getDev(truemean,2*sigma)\n",
    "p3lowlower = getDev(truemean,-2*sigma)"
   ]
  },
  {
   "cell_type": "code",
   "execution_count": 221,
   "metadata": {},
   "outputs": [
    {
     "data": {
      "text/plain": [
       "<matplotlib.legend.Legend at 0x160d75c8>"
      ]
     },
     "execution_count": 221,
     "metadata": {},
     "output_type": "execute_result"
    },
    {
     "data": {
      "image/png": "[encoded data removed]",
      "text/plain": [
       "<Figure size 432x288 with 1 Axes>"
      ]
     },
     "metadata": {
      "needs_background": "light"
     },
     "output_type": "display_data"
    }
   ],
   "source": [
    "#plot true mean and with 95% confidence \n",
    "plotMean(p3x,p3lowupper,'red',\"upper bound 95% confidence\")\n",
    "plotMean(p3x,truemean,'blue',\"true mean\")\n",
    "plotMean(p3x,p3lowlower,'green',\"lower bound 95% confidence\")\n",
    "#set x range to -3.5 to 3.5\n",
    "plt.xlim(-3.5, 3.5) \n",
    "#plot low points of low noise observations \n",
    "plt.scatter(p3x,p3ylow)\n",
    "plt.title(\"low noise trend with low noise observation sigma = 0.55\")\n",
    "plt.legend()"
   ]
  },
  {
   "cell_type": "markdown",
   "metadata": {},
   "source": [
    "3b)"
   ]
  },
  {
   "cell_type": "code",
   "execution_count": 222,
   "metadata": {},
   "outputs": [],
   "source": [
    "sigma = 3.5\n",
    "p3highupper = getDev(truemean,2*sigma)\n",
    "p3highlower = getDev(truemean,-2*sigma)"
   ]
  },
  {
   "cell_type": "code",
   "execution_count": 224,
   "metadata": {},
   "outputs": [
    {
     "data": {
      "text/plain": [
       "<matplotlib.legend.Legend at 0x16323280>"
      ]
     },
     "execution_count": 224,
     "metadata": {},
     "output_type": "execute_result"
    },
    {
     "data": {
      "image/png": "[encoded data removed]",
      "text/plain": [
       "<Figure size 432x288 with 1 Axes>"
      ]
     },
     "metadata": {
      "needs_background": "light"
     },
     "output_type": "display_data"
    }
   ],
   "source": [
    "#plot true mean and with 95% confidence \n",
    "plotMean(p3x,p3highupper,'red',\"upper bound 95% confidence\")\n",
    "plotMean(p3x,truemean,'blue',\"true mean\")\n",
    "plotMean(p3x,p3highlower,'green',\"lower bound 95% confidence\")\n",
    "#set x range to -3.5 to 3.5\n",
    "plt.xlim(-3.5, 3.5) \n",
    "#plot low points of low noise observations \n",
    "plt.scatter(p3x,p3yhigh)\n",
    "plt.title(\"high noise trend with high noise observation sigma = 3.5\")\n",
    "plt.legend()"
   ]
  },
  {
   "cell_type": "markdown",
   "metadata": {},
   "source": [
    "3c)"
   ]
  },
  {
   "cell_type": "code",
   "execution_count": 320,
   "metadata": {},
   "outputs": [],
   "source": [
    "\n",
    "p3x2 = []\n",
    "for i in p3x:\n",
    "    p3x2.append(i**2)\n",
    "\n",
    "p3x3 = []\n",
    "for i in p3x:\n",
    "    p3x3.append(i**3)"
   ]
  },
  {
   "cell_type": "code",
   "execution_count": 348,
   "metadata": {},
   "outputs": [
    {
     "data": {
      "text/html": [
       "<div>\n",
       "<style scoped>\n",
       "    .dataframe tbody tr th:only-of-type {\n",
       "        vertical-align: middle;\n",
       "    }\n",
       "\n",
       "    .dataframe tbody tr th {\n",
       "        vertical-align: top;\n",
       "    }\n",
       "\n",
       "    .dataframe thead th {\n",
       "        text-align: right;\n",
       "    }\n",
       "</style>\n",
       "<table border=\"1\" class=\"dataframe\">\n",
       "  <thead>\n",
       "    <tr style=\"text-align: right;\">\n",
       "      <th></th>\n",
       "      <th>x</th>\n",
       "      <th>x2</th>\n",
       "      <th>x3</th>\n",
       "      <th>y_low</th>\n",
       "    </tr>\n",
       "  </thead>\n",
       "  <tbody>\n",
       "    <tr>\n",
       "      <th>0</th>\n",
       "      <td>2.802495</td>\n",
       "      <td>7.853978</td>\n",
       "      <td>22.010733</td>\n",
       "      <td>-0.369818</td>\n",
       "    </tr>\n",
       "    <tr>\n",
       "      <th>1</th>\n",
       "      <td>-1.778598</td>\n",
       "      <td>3.163409</td>\n",
       "      <td>-5.626432</td>\n",
       "      <td>-0.283916</td>\n",
       "    </tr>\n",
       "    <tr>\n",
       "      <th>2</th>\n",
       "      <td>-0.771495</td>\n",
       "      <td>0.595205</td>\n",
       "      <td>-0.459197</td>\n",
       "      <td>-1.487797</td>\n",
       "    </tr>\n",
       "    <tr>\n",
       "      <th>3</th>\n",
       "      <td>-0.554536</td>\n",
       "      <td>0.307510</td>\n",
       "      <td>-0.170525</td>\n",
       "      <td>-1.037194</td>\n",
       "    </tr>\n",
       "    <tr>\n",
       "      <th>4</th>\n",
       "      <td>2.932007</td>\n",
       "      <td>8.596666</td>\n",
       "      <td>25.205486</td>\n",
       "      <td>0.267219</td>\n",
       "    </tr>\n",
       "  </tbody>\n",
       "</table>\n",
       "</div>"
      ],
      "text/plain": [
       "          x        x2         x3     y_low\n",
       "0  2.802495  7.853978  22.010733 -0.369818\n",
       "1 -1.778598  3.163409  -5.626432 -0.283916\n",
       "2 -0.771495  0.595205  -0.459197 -1.487797\n",
       "3 -0.554536  0.307510  -0.170525 -1.037194\n",
       "4  2.932007  8.596666  25.205486  0.267219"
      ]
     },
     "execution_count": 348,
     "metadata": {},
     "output_type": "execute_result"
    }
   ],
   "source": [
    "\n",
    "p3df = pd.DataFrame()\n",
    "p3df.insert(0, 'x', p3low['x'])\n",
    "p3df.insert(1, 'x2', p3x2)\n",
    "p3df.insert(2, 'x3', p3x3)\n",
    "p3df.insert(3, 'y_low', p3low['y'])\n",
    "p3df.head()"
   ]
  },
  {
   "cell_type": "code",
   "execution_count": 349,
   "metadata": {},
   "outputs": [],
   "source": [
    "\n",
    "p3y,p3X = dmatrices('y_low ~ x + x2 + x3', data = p3df, return_type='dataframe')"
   ]
  },
  {
   "cell_type": "code",
   "execution_count": 350,
   "metadata": {},
   "outputs": [],
   "source": [
    "\n",
    "p3ynp = p3y.to_numpy()\n",
    "p3Xnp = p3X.to_numpy()"
   ]
  },
  {
   "cell_type": "code",
   "execution_count": 351,
   "metadata": {},
   "outputs": [],
   "source": [
    "\n",
    "def printMLEp3(txt,arr):\n",
    "    print(txt, \"\\nβ0=\", arr[0], \"β1=\",arr[1], \"β2=\", arr[2], \"β3=\", arr[3])"
   ]
  },
  {
   "cell_type": "code",
   "execution_count": 352,
   "metadata": {},
   "outputs": [
    {
     "name": "stdout",
     "output_type": "stream",
     "text": [
      "MLE (Low Noise) \n",
      "β0= [-1.11254372] β1= [1.08798743] β2= [0.50319042] β3= [-0.26145691]\n"
     ]
    }
   ],
   "source": [
    "#call calcMLE functino from problem 1, same calculation but now with 4 results\n",
    "printMLEp3(\"MLE (Low Noise)\", calcMLE(p3Xnp,p3ynp))"
   ]
  },
  {
   "cell_type": "markdown",
   "metadata": {},
   "source": [
    "B1 and b2 are larger than b"
   ]
  },
  {
   "cell_type": "markdown",
   "metadata": {},
   "source": [
    "3d)"
   ]
  },
  {
   "cell_type": "code",
   "execution_count": 353,
   "metadata": {},
   "outputs": [
    {
     "data": {
      "text/html": [
       "<div>\n",
       "<style scoped>\n",
       "    .dataframe tbody tr th:only-of-type {\n",
       "        vertical-align: middle;\n",
       "    }\n",
       "\n",
       "    .dataframe tbody tr th {\n",
       "        vertical-align: top;\n",
       "    }\n",
       "\n",
       "    .dataframe thead th {\n",
       "        text-align: right;\n",
       "    }\n",
       "</style>\n",
       "<table border=\"1\" class=\"dataframe\">\n",
       "  <thead>\n",
       "    <tr style=\"text-align: right;\">\n",
       "      <th></th>\n",
       "      <th>x</th>\n",
       "      <th>x2</th>\n",
       "      <th>x3</th>\n",
       "      <th>y_low</th>\n",
       "      <th>y_high</th>\n",
       "    </tr>\n",
       "  </thead>\n",
       "  <tbody>\n",
       "    <tr>\n",
       "      <th>0</th>\n",
       "      <td>2.802495</td>\n",
       "      <td>7.853978</td>\n",
       "      <td>22.010733</td>\n",
       "      <td>-0.369818</td>\n",
       "      <td>2.460998</td>\n",
       "    </tr>\n",
       "    <tr>\n",
       "      <th>1</th>\n",
       "      <td>-1.778598</td>\n",
       "      <td>3.163409</td>\n",
       "      <td>-5.626432</td>\n",
       "      <td>-0.283916</td>\n",
       "      <td>-0.561214</td>\n",
       "    </tr>\n",
       "    <tr>\n",
       "      <th>2</th>\n",
       "      <td>-0.771495</td>\n",
       "      <td>0.595205</td>\n",
       "      <td>-0.459197</td>\n",
       "      <td>-1.487797</td>\n",
       "      <td>-2.838286</td>\n",
       "    </tr>\n",
       "    <tr>\n",
       "      <th>3</th>\n",
       "      <td>-0.554536</td>\n",
       "      <td>0.307510</td>\n",
       "      <td>-0.170525</td>\n",
       "      <td>-1.037194</td>\n",
       "      <td>-8.001964</td>\n",
       "    </tr>\n",
       "    <tr>\n",
       "      <th>4</th>\n",
       "      <td>2.932007</td>\n",
       "      <td>8.596666</td>\n",
       "      <td>25.205486</td>\n",
       "      <td>0.267219</td>\n",
       "      <td>-2.674184</td>\n",
       "    </tr>\n",
       "  </tbody>\n",
       "</table>\n",
       "</div>"
      ],
      "text/plain": [
       "          x        x2         x3     y_low    y_high\n",
       "0  2.802495  7.853978  22.010733 -0.369818  2.460998\n",
       "1 -1.778598  3.163409  -5.626432 -0.283916 -0.561214\n",
       "2 -0.771495  0.595205  -0.459197 -1.487797 -2.838286\n",
       "3 -0.554536  0.307510  -0.170525 -1.037194 -8.001964\n",
       "4  2.932007  8.596666  25.205486  0.267219 -2.674184"
      ]
     },
     "execution_count": 353,
     "metadata": {},
     "output_type": "execute_result"
    }
   ],
   "source": [
    "#insert y_high\n",
    "p3df.insert(4, 'y_high', p3high['y'])\n",
    "p3df.head()"
   ]
  },
  {
   "cell_type": "code",
   "execution_count": 354,
   "metadata": {},
   "outputs": [],
   "source": [
    "#create design matrix for y_high\n",
    "p3yh,p3Xh = dmatrices('y_high ~ x + x2 + x3', data = p3df, return_type='dataframe')"
   ]
  },
  {
   "cell_type": "code",
   "execution_count": 355,
   "metadata": {},
   "outputs": [],
   "source": [
    "#convert to numpy \n",
    "p3yhnp = p3yh.to_numpy()\n",
    "p3Xhnp = p3Xh.to_numpy()"
   ]
  },
  {
   "cell_type": "code",
   "execution_count": 358,
   "metadata": {},
   "outputs": [
    {
     "name": "stdout",
     "output_type": "stream",
     "text": [
      "MLE (High Noise) \n",
      "β0= [-1.22275746] β1= [1.18410771] β2= [0.4921373] β3= [-0.24960733]\n"
     ]
    }
   ],
   "source": [
    "#call calcMLE functino from problem 1, same calculation but now with 4 results\n",
    "printMLEp3(\"MLE (High Noise)\", calcMLE(p3Xhnp,p3yhnp))"
   ]
  },
  {
   "cell_type": "markdown",
   "metadata": {},
   "source": [
    "The calculated values for MLE is not as close to the true β values in comparison to the β values generated with the low noise data with β0 and β2 smaller than the true β value and β1 and β3 larger than the true β value "
   ]
  },
  {
   "cell_type": "code",
   "execution_count": null,
   "metadata": {},
   "outputs": [],
   "source": []
  },
  {
   "cell_type": "code",
   "execution_count": null,
   "metadata": {},
   "outputs": [],
   "source": []
  },
  {
   "cell_type": "code",
   "execution_count": null,
   "metadata": {},
   "outputs": [],
   "source": []
  },
  {
   "cell_type": "code",
   "execution_count": null,
   "metadata": {},
   "outputs": [],
   "source": []
  },
  {
   "cell_type": "code",
   "execution_count": null,
   "metadata": {},
   "outputs": [],
   "source": []
  },
  {
   "cell_type": "code",
   "execution_count": null,
   "metadata": {},
   "outputs": [],
   "source": []
  },
  {
   "cell_type": "code",
   "execution_count": null,
   "metadata": {},
   "outputs": [],
   "source": []
  },
  {
   "cell_type": "code",
   "execution_count": null,
   "metadata": {},
   "outputs": [],
   "source": []
  },
  {
   "cell_type": "code",
   "execution_count": null,
   "metadata": {},
   "outputs": [],
   "source": []
  },
  {
   "cell_type": "code",
   "execution_count": null,
   "metadata": {},
   "outputs": [],
   "source": []
  },
  {
   "cell_type": "markdown",
   "metadata": {},
   "source": [
    "### 4. Regression model threshold"
   ]
  },
  {
   "cell_type": "code",
   "execution_count": null,
   "metadata": {},
   "outputs": [],
   "source": [
    "#import necessary library \n",
    "import pandas as pd\n",
    "import numpy as np"
   ]
  },
  {
   "cell_type": "code",
   "execution_count": null,
   "metadata": {},
   "outputs": [],
   "source": [
    "#grabbing the dataset using pandas\n",
    "df = pd.read_csv(\"problem_04/glm_dataset.csv\")\n",
    "#cast the obeserved as a string so later we can stitch the mu_pred and observed togther\n",
    "df['y'] = df['y'].astype(str)\n",
    "df.head()"
   ]
  },
  {
   "cell_type": "markdown",
   "metadata": {},
   "source": [
    "##### A)Threshold == 0.05"
   ]
  },
  {
   "cell_type": "code",
   "execution_count": null,
   "metadata": {
    "scrolled": false
   },
   "outputs": [],
   "source": [
    "#new dataframe for the threshold\n",
    "af = df\n",
    "#store all the mu prediction\n",
    "mu_pred = []\n",
    "#set the threshold\n",
    "thrs = 0.05\n",
    "\n",
    "for i in af['mu']:\n",
    "    if i >= thrs:\n",
    "        mu_pred.append('1')\n",
    "    elif i < thrs:\n",
    "        mu_pred.append('0')\n",
    "        \n",
    "#convert the list to a column in the dataframe\n",
    "af['mu_pred'] = pd.Series(mu_pred)\n",
    "#concat the the mu_pred and y to get the confusion matrix value\n",
    "af['matx'] = af['mu_pred'].map(str) + af['y']\n",
    "\n",
    "################################################################\n",
    "#convert the numerical value in matx to confusion matrix value\n",
    "cm=[]\n",
    "#determine the values for the confusion matrix\n",
    "for j in af['matx']:\n",
    "    if (j == '11'):\n",
    "        cm.append('TP')\n",
    "    elif(j == '10'):\n",
    "        cm.append('FP')\n",
    "    elif(j == '01'):\n",
    "        cm.append('FN')\n",
    "    elif(j == '00'):\n",
    "        cm.append('TN')\n",
    "################################################################\n",
    "atpc = cm.count(\"TP\")\n",
    "afnc = cm.count(\"FN\")\n",
    "afpc = cm.count(\"FP\")\n",
    "atnc = cm.count(\"TN\")\n",
    "################################################################\n",
    "print(\"CONFUSION MATRIX: THRESHOLD == 0.05\")\n",
    "print(\"TP:\",atpc)\n",
    "print(\"FP:\",afpc)\n",
    "print(\"FN:\",afnc)\n",
    "print(\"TN:\",atnc)\n",
    "################################################################\n",
    "#Sensitivity = True Positives / (True Positives + False Negatives)\n",
    "asen = atpc/(atpc+afnc)\n",
    "print(\"Sensitivity:\",asen)\n",
    "################################################################\n",
    "#Specificity = True Negatives / (True Negatives + False Positives)\n",
    "aspc = atnc/(atnc+afpc)\n",
    "################################################################\n",
    "#False Positive Rate = 1 - Specificity\n",
    "#afpr = 1 - aspc\n",
    "afpr = afpc/(afpc+atnc)\n",
    "print(\"False Positive Rate:\",afpr)"
   ]
  },
  {
   "cell_type": "markdown",
   "metadata": {},
   "source": [
    "##### B)Threshold == 0.25"
   ]
  },
  {
   "cell_type": "code",
   "execution_count": null,
   "metadata": {},
   "outputs": [],
   "source": [
    "#new dataframe for the threshold \n",
    "bf = df\n",
    "#set the threshold\n",
    "thrs = 0.25\n",
    "#new list to store in the prediction value\n",
    "mu_pred = []\n",
    "#use a for loop to check if mu is above the 0.25 threshold\n",
    "for i in bf['mu']:\n",
    "    if i >= thrs:\n",
    "        mu_pred.append(1)\n",
    "    elif i < thrs:\n",
    "        mu_pred.append(0)\n",
    "    \n",
    "#convert the mu_prediction list to a column\n",
    "bf['mu_pred'] = pd.Series(mu_pred)\n",
    "#concat the the mu_pred and y to get the confusion matrix value\n",
    "bf['matx'] = bf['mu_pred'].map(str) + bf['y']\n",
    "################################################################\n",
    "#convert the numerical value in matx to confusion matrix value\n",
    "cm=[]\n",
    "#determine the values for the confusion matrix\n",
    "for j in bf['matx']:\n",
    "    if (j == '11'):\n",
    "        cm.append('TP')\n",
    "    elif(j == '10'):\n",
    "        cm.append('FP')\n",
    "    elif(j == '01'):\n",
    "        cm.append('FN')\n",
    "    elif(j == '00'):\n",
    "        cm.append('TN')\n",
    "################################################################\n",
    "btpc = cm.count(\"TP\")\n",
    "bfnc = cm.count(\"FN\")\n",
    "bfpc = cm.count(\"FP\")\n",
    "btnc = cm.count(\"TN\")\n",
    "################################################################\n",
    "print(\"CONFUSION MATRIX: THRESHOLD == 0.25\")\n",
    "print(\"TP:\",btpc)\n",
    "print(\"FP:\",bfpc)\n",
    "print(\"FN:\",bfnc)\n",
    "print(\"TN:\",btnc)\n",
    "################################################################\n",
    "#Sensitivity = True Positives / (True Positives + False Negatives)\n",
    "bsen = btpc/(btpc+bfnc)\n",
    "print(\"Sensitivity:\",bsen)\n",
    "################################################################\n",
    "#Specificity = True Negatives / (True Negatives + False Positives)\n",
    "bspc = btnc/(btnc+bfpc)\n",
    "################################################################\n",
    "#False Positive Rate = 1 - Specificity\n",
    "#bfpr = 1 - bspc\n",
    "bfpr = bfpc/(bfpc+btnc)\n",
    "print(\"False Positive Rate:\",bfpr)"
   ]
  },
  {
   "cell_type": "markdown",
   "metadata": {},
   "source": [
    "##### C)Threshold == 0.50"
   ]
  },
  {
   "cell_type": "code",
   "execution_count": null,
   "metadata": {},
   "outputs": [],
   "source": [
    "#new dataframe for the threshold \n",
    "cf = df\n",
    "#set the threshold\n",
    "thrs = 0.50\n",
    "#new list to store in the prediction value\n",
    "mu_pred = []\n",
    "#use a for loop to check if mu is above the 0.25 threshold\n",
    "for i in bf['mu']:\n",
    "    if i >= thrs:\n",
    "        mu_pred.append(1)\n",
    "    elif i < thrs:\n",
    "        mu_pred.append(0)\n",
    "    \n",
    "#convert the mu_prediction list to a column\n",
    "cf['mu_pred'] = pd.Series(mu_pred)\n",
    "#concat the the mu_pred and y to get the confusion matrix value\n",
    "cf['matx'] = cf['mu_pred'].map(str) + cf['y']\n",
    "################################################################\n",
    "#convert the numerical value in matx to confusion matrix value\n",
    "cm=[]\n",
    "#determine the values for the confusion matrix\n",
    "for j in cf['matx']:\n",
    "    if (j == '11'):\n",
    "        cm.append('TP')\n",
    "    elif(j == '10'):\n",
    "        cm.append('FP')\n",
    "    elif(j == '01'):\n",
    "        cm.append('FN')\n",
    "    elif(j == '00'):\n",
    "        cm.append('TN')\n",
    "################################################################\n",
    "ctpc = cm.count(\"TP\")\n",
    "cfnc = cm.count(\"FN\")\n",
    "cfpc = cm.count(\"FP\")\n",
    "ctnc = cm.count(\"TN\")\n",
    "################################################################\n",
    "print(\"CONFUSION MATRIX: THRESHOLD == 0.50\")\n",
    "print(\"TP:\",ctpc)\n",
    "print(\"FP:\",cfpc)\n",
    "print(\"FN:\",cfnc)\n",
    "print(\"TN:\",ctnc)\n",
    "################################################################\n",
    "#Sensitivity = True Positives / (True Positives + False Negatives)\n",
    "csen = ctpc/(ctpc+cfnc)\n",
    "print(\"Sensitivity:\",csen)\n",
    "################################################################\n",
    "#Specificity = True Negatives / (True Negatives + False Positives)\n",
    "cspc = ctnc/(ctnc+cfpc)\n",
    "################################################################\n",
    "#False Positive Rate = 1 - Specificity\n",
    "#cfpr = 1 - cspc\n",
    "cfpr = cfpc/(cfpc+ctnc)\n",
    "print(\"False Positive Rate:\",cfpr)\n"
   ]
  },
  {
   "cell_type": "markdown",
   "metadata": {},
   "source": [
    "##### D)Threshold == 0.75"
   ]
  },
  {
   "cell_type": "code",
   "execution_count": null,
   "metadata": {},
   "outputs": [],
   "source": [
    "#new dataframe for the threshold \n",
    "df_d = df\n",
    "#set the threshold\n",
    "thrs = 0.75\n",
    "#new list to store in the prediction value\n",
    "mu_pred = []\n",
    "#use a for loop to check if mu is above the 0.25 threshold\n",
    "for i in df_d['mu']:\n",
    "    if i >= thrs:\n",
    "        mu_pred.append(1)\n",
    "    elif i < thrs:\n",
    "        mu_pred.append(0)\n",
    "    \n",
    "#convert the mu_prediction list to a column\n",
    "df_d['mu_pred'] = pd.Series(mu_pred)\n",
    "#concat the the mu_pred and y to get the confusion matrix value\n",
    "df_d['matx'] = df_d['mu_pred'].map(str) + df_d['y']\n",
    "################################################################\n",
    "#convert the numerical value in matx to confusion matrix value\n",
    "cm=[]\n",
    "#determine the values for the confusion matrix\n",
    "for j in df_d['matx']:\n",
    "    if (j == '11'):\n",
    "        cm.append('TP')\n",
    "    elif(j == '10'):\n",
    "        cm.append('FP')\n",
    "    elif(j == '01'):\n",
    "        cm.append('FN')\n",
    "    elif(j == '00'):\n",
    "        cm.append('TN')\n",
    "################################################################\n",
    "dtpc = cm.count(\"TP\")\n",
    "dfnc = cm.count(\"FN\")\n",
    "dfpc = cm.count(\"FP\")\n",
    "dtnc = cm.count(\"TN\")\n",
    "################################################################\n",
    "print(\"CONFUSION MATRIX: THRESHOLD == 0.75\")\n",
    "print(\"TP:\",dtpc)\n",
    "print(\"FP:\",dfpc)\n",
    "print(\"FN:\",dfnc)\n",
    "print(\"TN:\",dtnc)\n",
    "################################################################\n",
    "#Sensitivity = True Positives / (True Positives + False Negatives)\n",
    "dsen = dtpc/(dtpc+dfnc)\n",
    "print(\"Sensitivity:\",dsen)\n",
    "################################################################\n",
    "#Specificity = True Negatives / (True Negatives + False Positives)\n",
    "dspc = dtnc/(dtnc+dfpc)\n",
    "################################################################\n",
    "#False Positive Rate = 1 - Specificity\n",
    "#dfpr = 1 - dspc\n",
    "dfpr = dfpc/(dfpc+dtnc)\n",
    "print(\"False Positive Rate:\",dfpr)"
   ]
  },
  {
   "cell_type": "markdown",
   "metadata": {},
   "source": [
    "##### E)Threshold == 0.95"
   ]
  },
  {
   "cell_type": "code",
   "execution_count": null,
   "metadata": {},
   "outputs": [],
   "source": [
    "#new dataframe for the threshold \n",
    "ef = df\n",
    "#set the threshold\n",
    "thrs = 0.95\n",
    "#new list to store in the prediction value\n",
    "mu_pred = []\n",
    "#use a for loop to check if mu is above the 0.25 threshold\n",
    "for i in ef['mu']:\n",
    "    if i >= thrs:\n",
    "        mu_pred.append(1)\n",
    "    elif i < thrs:\n",
    "        mu_pred.append(0)\n",
    "    \n",
    "#convert the mu_prediction list to a column\n",
    "ef['mu_pred'] = pd.Series(mu_pred)\n",
    "#concat the the mu_pred and y to get the confusion matrix value\n",
    "ef['matx'] = ef['mu_pred'].map(str) + ef['y']\n",
    "################################################################\n",
    "#convert the numerical value in matx to confusion matrix value\n",
    "cm=[]\n",
    "#determine the values for the confusion matrix\n",
    "for j in ef['matx']:\n",
    "    if (j == '11'):\n",
    "        cm.append('TP')\n",
    "    elif(j == '10'):\n",
    "        cm.append('FP')\n",
    "    elif(j == '01'):\n",
    "        cm.append('FN')\n",
    "    elif(j == '00'):\n",
    "        cm.append('TN')\n",
    "################################################################\n",
    "etpc = cm.count(\"TP\")\n",
    "efnc = cm.count(\"FN\")\n",
    "efpc = cm.count(\"FP\")\n",
    "etnc = cm.count(\"TN\")\n",
    "################################################################\n",
    "print(\"CONFUSION MATRIX: THRESHOLD == 0.95\")\n",
    "print(\"TP:\",etpc)\n",
    "print(\"FP:\",efpc)\n",
    "print(\"FN:\",efnc)\n",
    "print(\"TN:\",etnc)\n",
    "################################################################\n",
    "#Sensitivity = True Positives / (True Positives + False Negatives)\n",
    "esen = etpc/(etpc+efnc)\n",
    "print(\"Sensitivity:\",esen)\n",
    "################################################################\n",
    "#Specificity = True Negatives / (True Negatives + False Positives)\n",
    "espc = etnc/(etnc+efpc)\n",
    "################################################################\n",
    "#False Positive Rate = 1 - Specificity\n",
    "#efpr = 1 - espc\n",
    "efpr = efpc/(efpc+etnc)\n",
    "print(\"False Positive Rate:\",efpr)"
   ]
  },
  {
   "cell_type": "markdown",
   "metadata": {},
   "source": [
    "\n",
    "\n",
    "### CONCLUSION\n",
    "\n",
    "##### A)CONFUSION MATRIX: THRESHOLD == 0.05\n",
    "TP: 17\n",
    "FP: 29\n",
    "FN: 0\n",
    "TN: 4\n",
    "Sensitivity: 1.0\n",
    "False Positive Rate: 0.8787878787878788\n",
    "\n",
    "\n",
    "###### B)CONFUSION MATRIX: THRESHOLD == 0.25\n",
    "TP: 13\n",
    "FP: 12\n",
    "FN: 4\n",
    "TN: 21\n",
    "Sensitivity: 0.7647058823529411\n",
    "False Positive Rate: 0.36363636363636365\n",
    "\n",
    "\n",
    "###### C)CONFUSION MATRIX: THRESHOLD == 0.50\n",
    "TP: 9\n",
    "FP: 5\n",
    "FN: 8\n",
    "TN: 28\n",
    "Sensitivity: 0.5294117647058824\n",
    "False Positive Rate: 0.15151515151515152\n",
    "\n",
    "\n",
    "##### D)CONFUSION MATRIX: THRESHOLD == 0.75\n",
    "TP: 6\n",
    "FP: 1\n",
    "FN: 11\n",
    "TN: 32\n",
    "Sensitivity: 0.35294117647058826\n",
    "False Positive Rate: 0.030303030303030304\n",
    "\n",
    "\n",
    "##### E)CONFUSION MATRIX: THRESHOLD == 0.95\n",
    "TP: 1\n",
    "FP: 0\n",
    "FN: 16\n",
    "TN: 33\n",
    "Sensitivity: 0.058823529411764705\n",
    "False Positive Rate: 0.0"
   ]
  },
  {
   "cell_type": "markdown",
   "metadata": {},
   "source": [
    "##### F) ROC PLOT"
   ]
  },
  {
   "cell_type": "code",
   "execution_count": null,
   "metadata": {},
   "outputs": [],
   "source": [
    "#importing required module\n",
    "import matplotlib.pyplot as plt\n",
    "import seaborn as sns; sns.set()"
   ]
  },
  {
   "cell_type": "code",
   "execution_count": null,
   "metadata": {
    "scrolled": true
   },
   "outputs": [],
   "source": [
    "data = [[afpr,asen],[bfpr,bsen],[cfpr,csen],[dfpr,dsen],[efpr,esen]]\n",
    "dfg = pd.DataFrame(data,columns = ['x','y'])\n",
    "dfg.head(6)"
   ]
  },
  {
   "cell_type": "code",
   "execution_count": null,
   "metadata": {
    "scrolled": true
   },
   "outputs": [],
   "source": [
    "plt.plot(dfg['x'],dfg['y'],'ro')\n",
    "plt.plot([0, 0], [1, 1], 'red', linewidth=10)\n",
    "plt.plot(dfg['x'],dfg['y'])"
   ]
  }
 ],
 "metadata": {
  "kernelspec": {
   "display_name": "Python 3",
   "language": "python",
   "name": "python3"
  },
  "language_info": {
   "codemirror_mode": {
    "name": "ipython",
    "version": 3
   },
   "file_extension": ".py",
   "mimetype": "text/x-python",
   "name": "python",
   "nbconvert_exporter": "python",
   "pygments_lexer": "ipython3",
   "version": "3.7.4"
  }
 },
 "nbformat": 4,
 "nbformat_minor": 2
}
